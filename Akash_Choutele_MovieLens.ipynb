{
 "cells": [
  {
   "cell_type": "markdown",
   "metadata": {},
   "source": [
    "# IMPORTING ALL LIBRARIES"
   ]
  },
  {
   "cell_type": "code",
   "execution_count": 1,
   "metadata": {},
   "outputs": [],
   "source": [
    "import os\n",
    "import sys\n",
    "\n",
    "os.environ[\"SPARK_HOME\"] = \"/usr/spark2.4.3\"\n",
    "os.environ[\"PYLIB\"] = os.environ[\"SPARK_HOME\"] + \"/python/lib\"\n",
    "os.environ[\"PYSPARK_PYTHON\"] = \"/usr/local/anaconda/bin/python\" \n",
    "os.environ[\"PYSPARK_DRIVER_PYTHON\"] = \"/usr/local/anaconda/bin/python\"\n",
    "sys.path.insert(0, os.environ[\"PYLIB\"] +\"/py4j-0.10.7-src.zip\")\n",
    "sys.path.insert(0, os.environ[\"PYLIB\"] +\"/pyspark.zip\")\n",
    " \n",
    "from pyspark import SparkContext, SparkConf\n",
    "from pyspark.sql import SQLContext\n",
    "\n",
    "from pyspark.sql import SparkSession\n",
    "from functools import reduce\n",
    "from pyspark.sql.functions import col, lit, when\n",
    "#from graphframes import *"
   ]
  },
  {
   "cell_type": "code",
   "execution_count": 2,
   "metadata": {},
   "outputs": [],
   "source": [
    "# Import libraries and other functions\n",
    "from io import StringIO\n",
    "from collections import namedtuple\n",
    "from pyspark.sql import Row\n",
    "from pyspark.sql.types import *\n",
    "from pyspark.sql.functions import *\n",
    "\n",
    "import csv\n",
    "import matplotlib.pyplot as plt\n",
    "import gmplot\n",
    "import pandas as pd\n",
    "import numpy as np"
   ]
  },
  {
   "cell_type": "code",
   "execution_count": 3,
   "metadata": {},
   "outputs": [
    {
     "name": "stdout",
     "output_type": "stream",
     "text": [
      "['The Project Gutenberg EBook of The Adventures of Sherlock Holmes', 'by Sir Arthur Conan Doyle', '(#15 in our series by Sir Arthur Conan Doyle)', '', 'Copyright laws are changing all over the world. Be sure to check the', 'copyright laws for your country before downloading or redistributing', 'this or any other Project Gutenberg eBook.', '', 'This header should be the first thing seen when viewing this Project', 'Gutenberg file.  Please do not remove it.  Do not change or edit the']\n",
      "2.4.3\n"
     ]
    }
   ],
   "source": [
    "# importing and defining spark context\n",
    "\n",
    "from pyspark import SparkContext, SparkConf\n",
    "conf = SparkConf().setAppName(\"appName\")\n",
    "sc = SparkContext(conf=conf)\n",
    "\n",
    "# test that config loaded correctly\n",
    "\n",
    "rdd = sc.textFile(\"/data/mr/wordcount/input/\")\n",
    "print(rdd.take(10))\n",
    "print(sc.version)"
   ]
  },
  {
   "cell_type": "code",
   "execution_count": 4,
   "metadata": {},
   "outputs": [],
   "source": [
    "#define SQL Context\n",
    "\n",
    "from pyspark.sql import SQLContext\n",
    "sqlContext = SQLContext(sc)"
   ]
  },
  {
   "cell_type": "code",
   "execution_count": 5,
   "metadata": {},
   "outputs": [],
   "source": [
    "# NEW SPARK DEFINITION\n",
    "\n",
    "import pyspark\n",
    "from pyspark import SparkConf\n",
    "from pyspark.sql import SparkSession\n",
    "spark = SparkSession.builder.getOrCreate()\n",
    "sqlContext = SQLContext(spark)\n"
   ]
  },
  {
   "cell_type": "code",
   "execution_count": 6,
   "metadata": {},
   "outputs": [],
   "source": [
    "# Machine Learning Library\n",
    "\n",
    "from pyspark.ml.evaluation import RegressionEvaluator\n",
    "from pyspark.ml.recommendation import ALS\n",
    "from pyspark.ml.tuning import TrainValidationSplit,ParamGridBuilder\n",
    "from pyspark.sql.functions import explode\n"
   ]
  },
  {
   "cell_type": "code",
   "execution_count": null,
   "metadata": {},
   "outputs": [],
   "source": []
  },
  {
   "cell_type": "markdown",
   "metadata": {},
   "source": [
    "# RATINGS"
   ]
  },
  {
   "cell_type": "code",
   "execution_count": 7,
   "metadata": {},
   "outputs": [],
   "source": [
    "#Importing all files together directly in a data frame\n",
    "#Create a data frame directly, dealing with headers and delimiters."
   ]
  },
  {
   "cell_type": "code",
   "execution_count": 8,
   "metadata": {},
   "outputs": [],
   "source": [
    "ratings = spark.read.option(\"header\", \"true\").option(\"delimiter\", \",\")\\\n",
    ".option(\"inferSchema\", \"true\").\\\n",
    "csv(\"hdfs:///user/imat5322_345668/MovieLens/ratings.csv\")"
   ]
  },
  {
   "cell_type": "code",
   "execution_count": 9,
   "metadata": {},
   "outputs": [
    {
     "data": {
      "text/plain": [
       "[Row(userId=1, movieId=1, rating=4.0, timestamp=964982703),\n",
       " Row(userId=1, movieId=3, rating=4.0, timestamp=964981247)]"
      ]
     },
     "execution_count": 9,
     "metadata": {},
     "output_type": "execute_result"
    }
   ],
   "source": [
    "ratings.take(2)"
   ]
  },
  {
   "cell_type": "code",
   "execution_count": 10,
   "metadata": {},
   "outputs": [
    {
     "name": "stdout",
     "output_type": "stream",
     "text": [
      "root\n",
      " |-- userId: integer (nullable = true)\n",
      " |-- movieId: integer (nullable = true)\n",
      " |-- rating: double (nullable = true)\n",
      " |-- timestamp: integer (nullable = true)\n",
      "\n"
     ]
    }
   ],
   "source": [
    "ratings.printSchema()"
   ]
  },
  {
   "cell_type": "code",
   "execution_count": 11,
   "metadata": {},
   "outputs": [],
   "source": [
    "#Tidy up the column names \n",
    "\n",
    "ratings = ratings.withColumnRenamed('movieId', 'Movie_ID')\n",
    "ratings = ratings.withColumnRenamed('userId', 'User_ID')\n",
    "ratings = ratings.withColumnRenamed('rating', 'Rating')\n",
    "ratings = ratings.withColumnRenamed('timestamp', 'Timestamp')"
   ]
  },
  {
   "cell_type": "code",
   "execution_count": 12,
   "metadata": {},
   "outputs": [
    {
     "data": {
      "text/plain": [
       "[Row(User_ID=1, Movie_ID=1, Rating=4.0, Timestamp=964982703),\n",
       " Row(User_ID=1, Movie_ID=3, Rating=4.0, Timestamp=964981247)]"
      ]
     },
     "execution_count": 12,
     "metadata": {},
     "output_type": "execute_result"
    }
   ],
   "source": [
    "ratings.take(2)"
   ]
  },
  {
   "cell_type": "code",
   "execution_count": 13,
   "metadata": {},
   "outputs": [],
   "source": [
    "# Initial data exploration\n",
    "# Finding out missing values "
   ]
  },
  {
   "cell_type": "code",
   "execution_count": 14,
   "metadata": {},
   "outputs": [
    {
     "name": "stdout",
     "output_type": "stream",
     "text": [
      "Total Records = 100836\n",
      "Total columns = 4\n",
      "------------------------------------------\n",
      "1.Column<b'User_ID'>\n",
      "  Missing Values = \n",
      "------------------------------------------\n",
      "+------------------------------------------------+\n",
      "|count(CASE WHEN (User_ID IS NULL) THEN true END)|\n",
      "+------------------------------------------------+\n",
      "|                                               0|\n",
      "+------------------------------------------------+\n",
      "\n",
      "2.Column<b'Movie_ID'>\n",
      "  Missing Values = \n",
      "------------------------------------------\n",
      "+-------------------------------------------------+\n",
      "|count(CASE WHEN (Movie_ID IS NULL) THEN true END)|\n",
      "+-------------------------------------------------+\n",
      "|                                                0|\n",
      "+-------------------------------------------------+\n",
      "\n",
      "3.Column<b'Rating'>\n",
      "  Missing Values = \n",
      "------------------------------------------\n",
      "+-----------------------------------------------+\n",
      "|count(CASE WHEN (Rating IS NULL) THEN true END)|\n",
      "+-----------------------------------------------+\n",
      "|                                              0|\n",
      "+-----------------------------------------------+\n",
      "\n",
      "4.Column<b'Timestamp'>\n",
      "  Missing Values = \n",
      "------------------------------------------\n",
      "+--------------------------------------------------+\n",
      "|count(CASE WHEN (Timestamp IS NULL) THEN true END)|\n",
      "+--------------------------------------------------+\n",
      "|                                                 0|\n",
      "+--------------------------------------------------+\n",
      "\n"
     ]
    }
   ],
   "source": [
    "i = 0 # reset counter\n",
    "\n",
    "#getting the total records amount\n",
    "\n",
    "total = ratings.count()\n",
    "\n",
    "print(\"Total Records = \" + str(total))\n",
    "\n",
    "#print the total amount of columns\n",
    "\n",
    "print(\"Total columns = \" + str(len(ratings.columns)))\n",
    "print(\"------------------------------------------\")\n",
    "\n",
    "#looping the whole table and getting the missing value number and missing rate of each column\n",
    "\n",
    "while i < len(ratings.columns): #loop through all columns\n",
    "    print(str(i+1) + \".\" + str(ratings[i]))\n",
    "    print(\"  Missing Values = \") \n",
    "    print(\"------------------------------------------\")\n",
    "    missingvalues = ratings.select([count(when(ratings[i].isNull(),\\\n",
    "                                        True))]).show() #check for missing values\n",
    "    i = i+1 #counter add 1\n"
   ]
  },
  {
   "cell_type": "code",
   "execution_count": 15,
   "metadata": {},
   "outputs": [
    {
     "name": "stdout",
     "output_type": "stream",
     "text": [
      "+-------+------------------+----------------+------------------+--------------------+\n",
      "|summary|           User_ID|        Movie_ID|            Rating|           Timestamp|\n",
      "+-------+------------------+----------------+------------------+--------------------+\n",
      "|  count|            100836|          100836|            100836|              100836|\n",
      "|   mean|326.12756356856676|19435.2957177992| 3.501556983616962|1.2059460873684695E9|\n",
      "| stddev| 182.6184914635004|35530.9871987003|1.0425292390606342|2.1626103599513078E8|\n",
      "|    min|                 1|               1|               0.5|           828124615|\n",
      "|    max|               610|          193609|               5.0|          1537799250|\n",
      "+-------+------------------+----------------+------------------+--------------------+\n",
      "\n"
     ]
    }
   ],
   "source": [
    "# Finding out statistical values\n",
    "\n",
    "ratings.describe().show()"
   ]
  },
  {
   "cell_type": "markdown",
   "metadata": {},
   "source": [
    "# TAGS"
   ]
  },
  {
   "cell_type": "code",
   "execution_count": 16,
   "metadata": {},
   "outputs": [],
   "source": [
    "#Importing all files together directly in a data frame\n",
    "#Create a data frame directly, dealing with headers and delimiters.\n",
    "\n",
    "tags = spark.read.option(\"header\", \"true\").option(\"delimiter\", \",\")\\\n",
    ".option(\"inferSchema\", \"true\").\\\n",
    "csv(\"hdfs:///user/imat5322_345668/MovieLens/tags.csv\")"
   ]
  },
  {
   "cell_type": "code",
   "execution_count": 17,
   "metadata": {},
   "outputs": [
    {
     "data": {
      "text/plain": [
       "[Row(userId=2, movieId=60756, tag='funny', timestamp=1445714994),\n",
       " Row(userId=2, movieId=60756, tag='Highly quotable', timestamp=1445714996)]"
      ]
     },
     "execution_count": 17,
     "metadata": {},
     "output_type": "execute_result"
    }
   ],
   "source": [
    "tags.take(2)"
   ]
  },
  {
   "cell_type": "code",
   "execution_count": 18,
   "metadata": {},
   "outputs": [
    {
     "name": "stdout",
     "output_type": "stream",
     "text": [
      "root\n",
      " |-- userId: integer (nullable = true)\n",
      " |-- movieId: integer (nullable = true)\n",
      " |-- tag: string (nullable = true)\n",
      " |-- timestamp: integer (nullable = true)\n",
      "\n"
     ]
    }
   ],
   "source": [
    "tags.printSchema()"
   ]
  },
  {
   "cell_type": "code",
   "execution_count": 19,
   "metadata": {},
   "outputs": [],
   "source": [
    "#Tidy up the column names \n",
    "\n",
    "tags = tags.withColumnRenamed('userId', 'User_ID')\n",
    "tags = tags.withColumnRenamed('movieId', 'Movie_ID')\n",
    "tags = tags.withColumnRenamed('tag', 'Tag')\n",
    "tags = tags.withColumnRenamed('timestamp', 'Timestamp')\n"
   ]
  },
  {
   "cell_type": "code",
   "execution_count": 20,
   "metadata": {},
   "outputs": [
    {
     "data": {
      "text/plain": [
       "[Row(User_ID=2, Movie_ID=60756, Tag='funny', Timestamp=1445714994),\n",
       " Row(User_ID=2, Movie_ID=60756, Tag='Highly quotable', Timestamp=1445714996)]"
      ]
     },
     "execution_count": 20,
     "metadata": {},
     "output_type": "execute_result"
    }
   ],
   "source": [
    "tags.take(2)"
   ]
  },
  {
   "cell_type": "code",
   "execution_count": 21,
   "metadata": {},
   "outputs": [],
   "source": [
    "# Initial data exploration\n",
    "# Finding out missing values "
   ]
  },
  {
   "cell_type": "code",
   "execution_count": 22,
   "metadata": {},
   "outputs": [
    {
     "name": "stdout",
     "output_type": "stream",
     "text": [
      "Total Records = 3683\n",
      "Total columns = 4\n",
      "------------------------------------------\n",
      "1.Column<b'User_ID'>\n",
      "  Missing Values = \n",
      "------------------------------------------\n",
      "+------------------------------------------------+\n",
      "|count(CASE WHEN (User_ID IS NULL) THEN true END)|\n",
      "+------------------------------------------------+\n",
      "|                                               0|\n",
      "+------------------------------------------------+\n",
      "\n",
      "2.Column<b'Movie_ID'>\n",
      "  Missing Values = \n",
      "------------------------------------------\n",
      "+-------------------------------------------------+\n",
      "|count(CASE WHEN (Movie_ID IS NULL) THEN true END)|\n",
      "+-------------------------------------------------+\n",
      "|                                                0|\n",
      "+-------------------------------------------------+\n",
      "\n",
      "3.Column<b'Tag'>\n",
      "  Missing Values = \n",
      "------------------------------------------\n",
      "+--------------------------------------------+\n",
      "|count(CASE WHEN (Tag IS NULL) THEN true END)|\n",
      "+--------------------------------------------+\n",
      "|                                           0|\n",
      "+--------------------------------------------+\n",
      "\n",
      "4.Column<b'Timestamp'>\n",
      "  Missing Values = \n",
      "------------------------------------------\n",
      "+--------------------------------------------------+\n",
      "|count(CASE WHEN (Timestamp IS NULL) THEN true END)|\n",
      "+--------------------------------------------------+\n",
      "|                                                 0|\n",
      "+--------------------------------------------------+\n",
      "\n"
     ]
    }
   ],
   "source": [
    "i = 0 # reset counter\n",
    "\n",
    "#getting the total records amount\n",
    "\n",
    "total = tags.count()\n",
    "\n",
    "print(\"Total Records = \" + str(total))\n",
    "\n",
    "#print the total amount of columns\n",
    "\n",
    "print(\"Total columns = \" + str(len(tags.columns)))\n",
    "print(\"------------------------------------------\")\n",
    "\n",
    "#looping the whole table and getting the missing value number and missing rate of each column\n",
    "\n",
    "while i < len(tags.columns): #loop through all columns\n",
    "    print(str(i+1) + \".\" + str(tags[i]))\n",
    "    print(\"  Missing Values = \") \n",
    "    print(\"------------------------------------------\")\n",
    "    missingvalues = tags.select([count(when(tags[i].isNull(),\\\n",
    "                                        True))]).show() #check for missing values\n",
    "    i = i+1 #counter add 1\n"
   ]
  },
  {
   "cell_type": "code",
   "execution_count": 23,
   "metadata": {},
   "outputs": [
    {
     "name": "stdout",
     "output_type": "stream",
     "text": [
      "+-------+------------------+-----------------+-----------+--------------------+\n",
      "|summary|           User_ID|         Movie_ID|        Tag|           Timestamp|\n",
      "+-------+------------------+-----------------+-----------+--------------------+\n",
      "|  count|              3683|             3683|       3683|                3683|\n",
      "|   mean| 431.1493347814282|27252.01357588922|       null| 1.320031966823785E9|\n",
      "| stddev|158.47255348483532|43490.55880276775|       null|1.7210245043712625E8|\n",
      "|    min|                 2|                1|\"\"\"artsy\"\"\"|          1137179352|\n",
      "|    max|               610|           193565|    zombies|          1537098603|\n",
      "+-------+------------------+-----------------+-----------+--------------------+\n",
      "\n"
     ]
    }
   ],
   "source": [
    "# Finding out statistical values\n",
    "\n",
    "tags.describe().show()"
   ]
  },
  {
   "cell_type": "markdown",
   "metadata": {},
   "source": [
    "# LINKS"
   ]
  },
  {
   "cell_type": "code",
   "execution_count": 24,
   "metadata": {},
   "outputs": [],
   "source": [
    "#Importing all files together directly in a data frame\n",
    "#Create a data frame directly, dealing with headers and delimiters."
   ]
  },
  {
   "cell_type": "code",
   "execution_count": 25,
   "metadata": {},
   "outputs": [],
   "source": [
    "links = spark.read.option(\"header\", \"true\").option(\"delimiter\", \",\")\\\n",
    ".option(\"inferSchema\", \"true\").\\\n",
    "csv(\"hdfs:///user/imat5322_345668/MovieLens/links.csv\")"
   ]
  },
  {
   "cell_type": "code",
   "execution_count": 26,
   "metadata": {},
   "outputs": [
    {
     "data": {
      "text/plain": [
       "[Row(movieId=1, imdbId=114709, tmdbId=862),\n",
       " Row(movieId=2, imdbId=113497, tmdbId=8844)]"
      ]
     },
     "execution_count": 26,
     "metadata": {},
     "output_type": "execute_result"
    }
   ],
   "source": [
    "links.take(2)"
   ]
  },
  {
   "cell_type": "code",
   "execution_count": 27,
   "metadata": {},
   "outputs": [
    {
     "name": "stdout",
     "output_type": "stream",
     "text": [
      "root\n",
      " |-- movieId: integer (nullable = true)\n",
      " |-- imdbId: integer (nullable = true)\n",
      " |-- tmdbId: integer (nullable = true)\n",
      "\n"
     ]
    }
   ],
   "source": [
    "links.printSchema()"
   ]
  },
  {
   "cell_type": "code",
   "execution_count": 28,
   "metadata": {},
   "outputs": [],
   "source": [
    "#Tidy up the column names \n",
    "\n",
    "links = links.withColumnRenamed('movieId', 'Movie_ID')\n",
    "links = links.withColumnRenamed('imdbId', 'IMDB_ID')\n",
    "links = links.withColumnRenamed('tmdbId', 'TMDB_ID')"
   ]
  },
  {
   "cell_type": "code",
   "execution_count": 29,
   "metadata": {},
   "outputs": [
    {
     "data": {
      "text/plain": [
       "[Row(Movie_ID=1, IMDB_ID=114709, TMDB_ID=862),\n",
       " Row(Movie_ID=2, IMDB_ID=113497, TMDB_ID=8844)]"
      ]
     },
     "execution_count": 29,
     "metadata": {},
     "output_type": "execute_result"
    }
   ],
   "source": [
    "links.take(2)"
   ]
  },
  {
   "cell_type": "code",
   "execution_count": 30,
   "metadata": {},
   "outputs": [],
   "source": [
    "# Initial data exploration\n",
    "# Finding out missing values "
   ]
  },
  {
   "cell_type": "code",
   "execution_count": 31,
   "metadata": {},
   "outputs": [
    {
     "name": "stdout",
     "output_type": "stream",
     "text": [
      "Total Records = 9742\n",
      "Total columns = 3\n",
      "------------------------------------------\n",
      "1.Column<b'Movie_ID'>\n",
      "  Missing Values = \n",
      "------------------------------------------\n",
      "+-------------------------------------------------+\n",
      "|count(CASE WHEN (Movie_ID IS NULL) THEN true END)|\n",
      "+-------------------------------------------------+\n",
      "|                                                0|\n",
      "+-------------------------------------------------+\n",
      "\n",
      "2.Column<b'IMDB_ID'>\n",
      "  Missing Values = \n",
      "------------------------------------------\n",
      "+------------------------------------------------+\n",
      "|count(CASE WHEN (IMDB_ID IS NULL) THEN true END)|\n",
      "+------------------------------------------------+\n",
      "|                                               0|\n",
      "+------------------------------------------------+\n",
      "\n",
      "3.Column<b'TMDB_ID'>\n",
      "  Missing Values = \n",
      "------------------------------------------\n",
      "+------------------------------------------------+\n",
      "|count(CASE WHEN (TMDB_ID IS NULL) THEN true END)|\n",
      "+------------------------------------------------+\n",
      "|                                               8|\n",
      "+------------------------------------------------+\n",
      "\n"
     ]
    }
   ],
   "source": [
    "i = 0 # reset counter\n",
    "\n",
    "#getting the total records amount\n",
    "\n",
    "total = links.count()\n",
    "\n",
    "print(\"Total Records = \" + str(total))\n",
    "\n",
    "#print the total amount of columns\n",
    "\n",
    "print(\"Total columns = \" + str(len(links.columns)))\n",
    "print(\"------------------------------------------\")\n",
    "\n",
    "#looping the whole table and getting the missing value number and missing rate of each column\n",
    "\n",
    "while i < len(links.columns): #loop through all columns\n",
    "    print(str(i+1) + \".\" + str(links[i]))\n",
    "    print(\"  Missing Values = \") \n",
    "    print(\"------------------------------------------\")\n",
    "    missingvalues = links.select([count(when(links[i].isNull(),\\\n",
    "                                        True))]).show() #check for missing values\n",
    "    i = i+1 #counter add 1\n"
   ]
  },
  {
   "cell_type": "code",
   "execution_count": 32,
   "metadata": {},
   "outputs": [
    {
     "name": "stdout",
     "output_type": "stream",
     "text": [
      "+-------+------------------+------------------+------------------+\n",
      "|summary|          Movie_ID|           IMDB_ID|           TMDB_ID|\n",
      "+-------+------------------+------------------+------------------+\n",
      "|  count|              9742|              9742|              9734|\n",
      "|   mean|42200.353623485935| 677183.8981728598|55162.123792890896|\n",
      "| stddev| 52160.49485443825|1107227.5767597635| 93653.48148734072|\n",
      "|    min|                 1|               417|                 2|\n",
      "|    max|            193609|           8391976|            525662|\n",
      "+-------+------------------+------------------+------------------+\n",
      "\n"
     ]
    }
   ],
   "source": [
    "# Finding out statistical values\n",
    "\n",
    "links.describe().show()"
   ]
  },
  {
   "cell_type": "markdown",
   "metadata": {},
   "source": [
    "# MOVIES"
   ]
  },
  {
   "cell_type": "code",
   "execution_count": 33,
   "metadata": {},
   "outputs": [],
   "source": [
    "#Importing all files together directly in a data frame\n",
    "#Create a data frame directly, dealing with headers and delimiters."
   ]
  },
  {
   "cell_type": "code",
   "execution_count": 34,
   "metadata": {},
   "outputs": [],
   "source": [
    "movies = spark.read.option(\"header\", \"true\").option(\"delimiter\", \",\")\\\n",
    ".option(\"inferSchema\", \"true\").\\\n",
    "csv(\"hdfs:///user/imat5322_345668/MovieLens/movies.csv\")"
   ]
  },
  {
   "cell_type": "code",
   "execution_count": 35,
   "metadata": {},
   "outputs": [
    {
     "data": {
      "text/plain": [
       "[Row(movieId=1, title='Toy Story (1995)', genres='Adventure|Animation|Children|Comedy|Fantasy'),\n",
       " Row(movieId=2, title='Jumanji (1995)', genres='Adventure|Children|Fantasy')]"
      ]
     },
     "execution_count": 35,
     "metadata": {},
     "output_type": "execute_result"
    }
   ],
   "source": [
    "movies.take(2)"
   ]
  },
  {
   "cell_type": "code",
   "execution_count": 36,
   "metadata": {},
   "outputs": [
    {
     "name": "stdout",
     "output_type": "stream",
     "text": [
      "root\n",
      " |-- movieId: integer (nullable = true)\n",
      " |-- title: string (nullable = true)\n",
      " |-- genres: string (nullable = true)\n",
      "\n"
     ]
    }
   ],
   "source": [
    "movies.printSchema()"
   ]
  },
  {
   "cell_type": "code",
   "execution_count": 37,
   "metadata": {},
   "outputs": [],
   "source": [
    "#Tidy up the column names \n",
    "\n",
    "movies = movies.withColumnRenamed('movieId', 'Movie_ID')\n",
    "movies = movies.withColumnRenamed('title', 'Title')\n",
    "movies = movies.withColumnRenamed('genres', 'Genres')"
   ]
  },
  {
   "cell_type": "code",
   "execution_count": 38,
   "metadata": {},
   "outputs": [
    {
     "data": {
      "text/plain": [
       "[Row(Movie_ID=1, Title='Toy Story (1995)', Genres='Adventure|Animation|Children|Comedy|Fantasy'),\n",
       " Row(Movie_ID=2, Title='Jumanji (1995)', Genres='Adventure|Children|Fantasy')]"
      ]
     },
     "execution_count": 38,
     "metadata": {},
     "output_type": "execute_result"
    }
   ],
   "source": [
    "movies.take(2)"
   ]
  },
  {
   "cell_type": "code",
   "execution_count": 39,
   "metadata": {},
   "outputs": [],
   "source": [
    "# Initial data exploration\n",
    "# Finding out missing values "
   ]
  },
  {
   "cell_type": "code",
   "execution_count": 40,
   "metadata": {},
   "outputs": [
    {
     "name": "stdout",
     "output_type": "stream",
     "text": [
      "Total Records = 9742\n",
      "Total columns = 3\n",
      "------------------------------------------\n",
      "1.Column<b'Movie_ID'>\n",
      "  Missing Values = \n",
      "------------------------------------------\n",
      "+-------------------------------------------------+\n",
      "|count(CASE WHEN (Movie_ID IS NULL) THEN true END)|\n",
      "+-------------------------------------------------+\n",
      "|                                                0|\n",
      "+-------------------------------------------------+\n",
      "\n",
      "2.Column<b'Title'>\n",
      "  Missing Values = \n",
      "------------------------------------------\n",
      "+----------------------------------------------+\n",
      "|count(CASE WHEN (Title IS NULL) THEN true END)|\n",
      "+----------------------------------------------+\n",
      "|                                             0|\n",
      "+----------------------------------------------+\n",
      "\n",
      "3.Column<b'Genres'>\n",
      "  Missing Values = \n",
      "------------------------------------------\n",
      "+-----------------------------------------------+\n",
      "|count(CASE WHEN (Genres IS NULL) THEN true END)|\n",
      "+-----------------------------------------------+\n",
      "|                                              0|\n",
      "+-----------------------------------------------+\n",
      "\n"
     ]
    }
   ],
   "source": [
    "i = 0 # reset counter\n",
    "\n",
    "#getting the total records amount\n",
    "\n",
    "total = movies.count()\n",
    "\n",
    "print(\"Total Records = \" + str(total))\n",
    "\n",
    "#print the total amount of columns\n",
    "\n",
    "print(\"Total columns = \" + str(len(movies.columns)))\n",
    "print(\"------------------------------------------\")\n",
    "\n",
    "#looping the whole table and getting the missing value number and missing rate of each column\n",
    "\n",
    "while i < len(movies.columns): #loop through all columns\n",
    "    print(str(i+1) + \".\" + str(movies[i]))\n",
    "    print(\"  Missing Values = \") \n",
    "    print(\"------------------------------------------\")\n",
    "    missingvalues = movies.select([count(when(movies[i].isNull(),\\\n",
    "                                        True))]).show() #check for missing values\n",
    "    i = i+1 #counter add 1\n"
   ]
  },
  {
   "cell_type": "code",
   "execution_count": 41,
   "metadata": {},
   "outputs": [
    {
     "name": "stdout",
     "output_type": "stream",
     "text": [
      "+-------+------------------+--------------------+------------------+\n",
      "|summary|          Movie_ID|               Title|            Genres|\n",
      "+-------+------------------+--------------------+------------------+\n",
      "|  count|              9742|                9742|              9742|\n",
      "|   mean|42200.353623485935|                null|              null|\n",
      "| stddev| 52160.49485443825|                null|              null|\n",
      "|    min|                 1|\"11'09\"\"01 - Sept...|(no genres listed)|\n",
      "|    max|            193609|À nous la liberté...|           Western|\n",
      "+-------+------------------+--------------------+------------------+\n",
      "\n"
     ]
    }
   ],
   "source": [
    "# Finding out statistical values\n",
    "\n",
    "movies.describe().show()"
   ]
  },
  {
   "cell_type": "code",
   "execution_count": null,
   "metadata": {},
   "outputs": [],
   "source": []
  },
  {
   "cell_type": "markdown",
   "metadata": {},
   "source": [
    "# Processing data (Joining ratings, movies and links)"
   ]
  },
  {
   "cell_type": "code",
   "execution_count": null,
   "metadata": {},
   "outputs": [],
   "source": []
  },
  {
   "cell_type": "code",
   "execution_count": 42,
   "metadata": {},
   "outputs": [],
   "source": [
    "# Joining ratings with movies\n",
    "\n",
    "movies_ratings_joined = movies.join(ratings,\n",
    "                        movies[\"Movie_ID\"] == ratings[\"Movie_ID\"],how=\"inner\").drop(ratings[\"Movie_ID\"])"
   ]
  },
  {
   "cell_type": "code",
   "execution_count": 43,
   "metadata": {
    "code_folding": []
   },
   "outputs": [
    {
     "data": {
      "text/plain": [
       "DataFrame[Movie_ID: int, Title: string, Genres: string, User_ID: int, Rating: double, Timestamp: int]"
      ]
     },
     "execution_count": 43,
     "metadata": {},
     "output_type": "execute_result"
    }
   ],
   "source": [
    "# Calling an action on the data frame\n",
    "\n",
    "movies_ratings_joined"
   ]
  },
  {
   "cell_type": "code",
   "execution_count": 44,
   "metadata": {},
   "outputs": [],
   "source": [
    "# Joining movies and ratings data with links.\n",
    "\n",
    "whole_data = movies_ratings_joined.join(links,\n",
    "             movies_ratings_joined[\"Movie_ID\"]== links[\"Movie_ID\"],how=\"inner\").drop(links[\"Movie_ID\"])"
   ]
  },
  {
   "cell_type": "code",
   "execution_count": 45,
   "metadata": {},
   "outputs": [
    {
     "data": {
      "text/plain": [
       "DataFrame[Movie_ID: int, Title: string, Genres: string, User_ID: int, Rating: double, Timestamp: int, IMDB_ID: int, TMDB_ID: int]"
      ]
     },
     "execution_count": 45,
     "metadata": {},
     "output_type": "execute_result"
    }
   ],
   "source": [
    "# Calling an action on the data frame\n",
    "\n",
    "whole_data"
   ]
  },
  {
   "cell_type": "code",
   "execution_count": 46,
   "metadata": {},
   "outputs": [
    {
     "data": {
      "text/plain": [
       "100836"
      ]
     },
     "execution_count": 46,
     "metadata": {},
     "output_type": "execute_result"
    }
   ],
   "source": [
    "whole_data.count()"
   ]
  },
  {
   "cell_type": "code",
   "execution_count": 47,
   "metadata": {
    "scrolled": false
   },
   "outputs": [
    {
     "data": {
      "text/plain": [
       "<bound method DataFrame.printSchema of DataFrame[Movie_ID: int, Title: string, Genres: string, User_ID: int, Rating: double, Timestamp: int, IMDB_ID: int, TMDB_ID: int]>"
      ]
     },
     "execution_count": 47,
     "metadata": {},
     "output_type": "execute_result"
    }
   ],
   "source": [
    "# Checking the schema of the merged whole data frame.\n",
    "\n",
    "whole_data.printSchema"
   ]
  },
  {
   "cell_type": "code",
   "execution_count": 48,
   "metadata": {
    "scrolled": false
   },
   "outputs": [
    {
     "name": "stdout",
     "output_type": "stream",
     "text": [
      "+--------+--------------------+--------------------+-------+------+---------+-------+-------+\n",
      "|Movie_ID|               Title|              Genres|User_ID|Rating|Timestamp|IMDB_ID|TMDB_ID|\n",
      "+--------+--------------------+--------------------+-------+------+---------+-------+-------+\n",
      "|       1|    Toy Story (1995)|Adventure|Animati...|      1|   4.0|964982703| 114709|    862|\n",
      "|       3|Grumpier Old Men ...|      Comedy|Romance|      1|   4.0|964981247| 113228|  15602|\n",
      "|       6|         Heat (1995)|Action|Crime|Thri...|      1|   4.0|964982224| 113277|    949|\n",
      "|      47|Seven (a.k.a. Se7...|    Mystery|Thriller|      1|   5.0|964983815| 114369|    807|\n",
      "|      50|Usual Suspects, T...|Crime|Mystery|Thr...|      1|   5.0|964982931| 114814|    629|\n",
      "|      70|From Dusk Till Da...|Action|Comedy|Hor...|      1|   3.0|964982400| 116367|    755|\n",
      "|     101|Bottle Rocket (1996)|Adventure|Comedy|...|      1|   5.0|964980868| 115734|  13685|\n",
      "|     110|   Braveheart (1995)|    Action|Drama|War|      1|   4.0|964982176| 112573|    197|\n",
      "|     151|      Rob Roy (1995)|Action|Drama|Roma...|      1|   5.0|964984041| 114287|  11780|\n",
      "|     157|Canadian Bacon (1...|          Comedy|War|      1|   5.0|964984100| 109370|   1775|\n",
      "|     163|    Desperado (1995)|Action|Romance|We...|      1|   5.0|964983650| 112851|   8068|\n",
      "|     216|Billy Madison (1995)|              Comedy|      1|   5.0|964981208| 112508|  11017|\n",
      "|     223|       Clerks (1994)|              Comedy|      1|   3.0|964980985| 109445|   2292|\n",
      "|     231|Dumb & Dumber (Du...|    Adventure|Comedy|      1|   5.0|964981179| 109686|   8467|\n",
      "|     235|      Ed Wood (1994)|        Comedy|Drama|      1|   4.0|964980908| 109707|    522|\n",
      "|     260|Star Wars: Episod...|Action|Adventure|...|      1|   5.0|964981680|  76759|     11|\n",
      "|     296| Pulp Fiction (1994)|Comedy|Crime|Dram...|      1|   3.0|964982967| 110912|    680|\n",
      "|     316|     Stargate (1994)|Action|Adventure|...|      1|   3.0|964982310| 111282|   2164|\n",
      "|     333|    Tommy Boy (1995)|              Comedy|      1|   5.0|964981179| 114694|  11381|\n",
      "|     349|Clear and Present...|Action|Crime|Dram...|      1|   4.0|964982563| 109444|   9331|\n",
      "+--------+--------------------+--------------------+-------+------+---------+-------+-------+\n",
      "only showing top 20 rows\n",
      "\n"
     ]
    }
   ],
   "source": [
    "whole_data.show()"
   ]
  },
  {
   "cell_type": "code",
   "execution_count": 49,
   "metadata": {},
   "outputs": [
    {
     "name": "stdout",
     "output_type": "stream",
     "text": [
      "+-------+----------------+--------------------+------------------+------------------+------------------+--------------------+------------------+------------------+\n",
      "|summary|        Movie_ID|               Title|            Genres|           User_ID|            Rating|           Timestamp|           IMDB_ID|           TMDB_ID|\n",
      "+-------+----------------+--------------------+------------------+------------------+------------------+--------------------+------------------+------------------+\n",
      "|  count|          100836|              100836|            100836|            100836|            100836|              100836|            100836|            100823|\n",
      "|   mean|19435.2957177992|                null|              null|326.12756356856676| 3.501556983616962|1.2059460873684695E9|351547.48697885673|20105.462632534243|\n",
      "| stddev|35530.9871987003|                null|              null| 182.6184914635004|1.0425292390606342|2.1626103599513078E8|   622060.20778065|53274.143619511095|\n",
      "|    min|               1|\"11'09\"\"01 - Sept...|(no genres listed)|                 1|               0.5|           828124615|               417|                 2|\n",
      "|    max|          193609|À nous la liberté...|           Western|               610|               5.0|          1537799250|           8391976|            525662|\n",
      "+-------+----------------+--------------------+------------------+------------------+------------------+--------------------+------------------+------------------+\n",
      "\n"
     ]
    }
   ],
   "source": [
    "whole_data.describe().show()"
   ]
  },
  {
   "cell_type": "code",
   "execution_count": null,
   "metadata": {},
   "outputs": [],
   "source": []
  },
  {
   "cell_type": "code",
   "execution_count": 50,
   "metadata": {},
   "outputs": [],
   "source": [
    "#delete unwanted columns from whole_data dataframe\n",
    "\n",
    "whole_data=whole_data.drop(\"TMDB_ID\").drop(\"IMDB_ID\").drop(\"Timestamp\")"
   ]
  },
  {
   "cell_type": "code",
   "execution_count": 51,
   "metadata": {},
   "outputs": [
    {
     "name": "stdout",
     "output_type": "stream",
     "text": [
      "+--------+--------------------+--------------------+-------+------+\n",
      "|Movie_ID|               Title|              Genres|User_ID|Rating|\n",
      "+--------+--------------------+--------------------+-------+------+\n",
      "|       1|    Toy Story (1995)|Adventure|Animati...|      1|   4.0|\n",
      "|       3|Grumpier Old Men ...|      Comedy|Romance|      1|   4.0|\n",
      "|       6|         Heat (1995)|Action|Crime|Thri...|      1|   4.0|\n",
      "|      47|Seven (a.k.a. Se7...|    Mystery|Thriller|      1|   5.0|\n",
      "|      50|Usual Suspects, T...|Crime|Mystery|Thr...|      1|   5.0|\n",
      "|      70|From Dusk Till Da...|Action|Comedy|Hor...|      1|   3.0|\n",
      "|     101|Bottle Rocket (1996)|Adventure|Comedy|...|      1|   5.0|\n",
      "|     110|   Braveheart (1995)|    Action|Drama|War|      1|   4.0|\n",
      "|     151|      Rob Roy (1995)|Action|Drama|Roma...|      1|   5.0|\n",
      "|     157|Canadian Bacon (1...|          Comedy|War|      1|   5.0|\n",
      "|     163|    Desperado (1995)|Action|Romance|We...|      1|   5.0|\n",
      "|     216|Billy Madison (1995)|              Comedy|      1|   5.0|\n",
      "|     223|       Clerks (1994)|              Comedy|      1|   3.0|\n",
      "|     231|Dumb & Dumber (Du...|    Adventure|Comedy|      1|   5.0|\n",
      "|     235|      Ed Wood (1994)|        Comedy|Drama|      1|   4.0|\n",
      "|     260|Star Wars: Episod...|Action|Adventure|...|      1|   5.0|\n",
      "|     296| Pulp Fiction (1994)|Comedy|Crime|Dram...|      1|   3.0|\n",
      "|     316|     Stargate (1994)|Action|Adventure|...|      1|   3.0|\n",
      "|     333|    Tommy Boy (1995)|              Comedy|      1|   5.0|\n",
      "|     349|Clear and Present...|Action|Crime|Dram...|      1|   4.0|\n",
      "+--------+--------------------+--------------------+-------+------+\n",
      "only showing top 20 rows\n",
      "\n"
     ]
    }
   ],
   "source": [
    "whole_data.show()"
   ]
  },
  {
   "cell_type": "code",
   "execution_count": null,
   "metadata": {},
   "outputs": [],
   "source": []
  },
  {
   "cell_type": "code",
   "execution_count": null,
   "metadata": {},
   "outputs": [],
   "source": []
  },
  {
   "cell_type": "markdown",
   "metadata": {},
   "source": [
    "# Rating Summary"
   ]
  },
  {
   "cell_type": "code",
   "execution_count": 52,
   "metadata": {},
   "outputs": [],
   "source": [
    "#Dropping the timestamp column not required for the analysis\n",
    "\n",
    "ratings=ratings.drop('Timestamp')\n",
    "\n",
    "#Pre-processing\n",
    "#creating ratings_summary dataframe which contains avg rating and rating count group by movieId\n",
    "\n",
    "ratings_summary=ratings.groupby(\"Movie_ID\") \\\n",
    "       .agg(mean(\"Rating\").alias(\"Avg_Rating\"), \\\n",
    "       count(\"User_ID\").alias(\"Rating_Count\")) \\\n",
    "       .sort(asc(\"Movie_ID\"))\n"
   ]
  },
  {
   "cell_type": "code",
   "execution_count": 53,
   "metadata": {},
   "outputs": [
    {
     "name": "stdout",
     "output_type": "stream",
     "text": [
      "+--------+------------------+------------+\n",
      "|Movie_ID|        Avg_Rating|Rating_Count|\n",
      "+--------+------------------+------------+\n",
      "|       1|3.9209302325581397|         215|\n",
      "|       2|3.4318181818181817|         110|\n",
      "|       3|3.2596153846153846|          52|\n",
      "|       4| 2.357142857142857|           7|\n",
      "|       5|3.0714285714285716|          49|\n",
      "|       6| 3.946078431372549|         102|\n",
      "|       7| 3.185185185185185|          54|\n",
      "|       8|             2.875|           8|\n",
      "|       9|             3.125|          16|\n",
      "|      10| 3.496212121212121|         132|\n",
      "|      11|3.6714285714285713|          70|\n",
      "|      12|2.4210526315789473|          19|\n",
      "|      13|             3.125|           8|\n",
      "|      14|3.8333333333333335|          18|\n",
      "|      15|               3.0|          13|\n",
      "|      16| 3.926829268292683|          82|\n",
      "|      17|3.7761194029850746|          67|\n",
      "|      18|               3.7|          20|\n",
      "|      19| 2.727272727272727|          88|\n",
      "|      20|               2.5|          15|\n",
      "+--------+------------------+------------+\n",
      "only showing top 20 rows\n",
      "\n"
     ]
    }
   ],
   "source": [
    "#displaying ratings_summary\n",
    "\n",
    "ratings_summary.show()"
   ]
  },
  {
   "cell_type": "markdown",
   "metadata": {},
   "source": [
    "# joining movies and rating summary"
   ]
  },
  {
   "cell_type": "code",
   "execution_count": 54,
   "metadata": {},
   "outputs": [],
   "source": [
    "#preprocessing\n",
    "#Join movies and ratings_summary dataframe\n",
    "\n",
    "movies_ratings_summary_data = movies.join(ratings_summary, \\\n",
    "movies[\"Movie_ID\"] == ratings_summary[\"Movie_ID\"], \\\n",
    "how=\"inner\").drop(movies[\"Movie_ID\"])"
   ]
  },
  {
   "cell_type": "code",
   "execution_count": 55,
   "metadata": {
    "scrolled": true
   },
   "outputs": [
    {
     "name": "stdout",
     "output_type": "stream",
     "text": [
      "+-------------------------------------+-------------------------------------------+--------+------------------+------------+\n",
      "|Title                                |Genres                                     |Movie_ID|Avg_Rating        |Rating_Count|\n",
      "+-------------------------------------+-------------------------------------------+--------+------------------+------------+\n",
      "|Toy Story (1995)                     |Adventure|Animation|Children|Comedy|Fantasy|1       |3.9209302325581397|215         |\n",
      "|Jumanji (1995)                       |Adventure|Children|Fantasy                 |2       |3.4318181818181817|110         |\n",
      "|Grumpier Old Men (1995)              |Comedy|Romance                             |3       |3.2596153846153846|52          |\n",
      "|Waiting to Exhale (1995)             |Comedy|Drama|Romance                       |4       |2.357142857142857 |7           |\n",
      "|Father of the Bride Part II (1995)   |Comedy                                     |5       |3.0714285714285716|49          |\n",
      "|Heat (1995)                          |Action|Crime|Thriller                      |6       |3.946078431372549 |102         |\n",
      "|Sabrina (1995)                       |Comedy|Romance                             |7       |3.185185185185185 |54          |\n",
      "|Tom and Huck (1995)                  |Adventure|Children                         |8       |2.875             |8           |\n",
      "|Sudden Death (1995)                  |Action                                     |9       |3.125             |16          |\n",
      "|GoldenEye (1995)                     |Action|Adventure|Thriller                  |10      |3.496212121212121 |132         |\n",
      "|American President, The (1995)       |Comedy|Drama|Romance                       |11      |3.6714285714285713|70          |\n",
      "|Dracula: Dead and Loving It (1995)   |Comedy|Horror                              |12      |2.4210526315789473|19          |\n",
      "|Balto (1995)                         |Adventure|Animation|Children               |13      |3.125             |8           |\n",
      "|Nixon (1995)                         |Drama                                      |14      |3.8333333333333335|18          |\n",
      "|Cutthroat Island (1995)              |Action|Adventure|Romance                   |15      |3.0               |13          |\n",
      "|Casino (1995)                        |Crime|Drama                                |16      |3.926829268292683 |82          |\n",
      "|Sense and Sensibility (1995)         |Drama|Romance                              |17      |3.7761194029850746|67          |\n",
      "|Four Rooms (1995)                    |Comedy                                     |18      |3.7               |20          |\n",
      "|Ace Ventura: When Nature Calls (1995)|Comedy                                     |19      |2.727272727272727 |88          |\n",
      "|Money Train (1995)                   |Action|Comedy|Crime|Drama|Thriller         |20      |2.5               |15          |\n",
      "+-------------------------------------+-------------------------------------------+--------+------------------+------------+\n",
      "only showing top 20 rows\n",
      "\n"
     ]
    }
   ],
   "source": [
    "#pre-processing\n",
    "#remove any leading and lagging spaces using trim function\n",
    " \n",
    "movies_ratings_summary_data = movies_ratings_summary_data \\\n",
    ".withColumn('Title', trim(movies_ratings_summary_data.Title))\n",
    "\n",
    "movies_ratings_summary_data.show(truncate =False)"
   ]
  },
  {
   "cell_type": "code",
   "execution_count": 56,
   "metadata": {},
   "outputs": [],
   "source": [
    "#Removing the trailing year from the title column values using substring.\n",
    "\n",
    "movies_ratings_summary_data = movies_ratings_summary_data.withColumn(\"Title\",expr(\"substring(Title, 1, length(Title)-7)\"))"
   ]
  },
  {
   "cell_type": "code",
   "execution_count": 57,
   "metadata": {},
   "outputs": [
    {
     "name": "stdout",
     "output_type": "stream",
     "text": [
      "+--------------------+--------------------+--------+------------------+------------+\n",
      "|               Title|              Genres|Movie_ID|        Avg_Rating|Rating_Count|\n",
      "+--------------------+--------------------+--------+------------------+------------+\n",
      "|           Toy Story|Adventure|Animati...|       1|3.9209302325581397|         215|\n",
      "|             Jumanji|Adventure|Childre...|       2|3.4318181818181817|         110|\n",
      "|    Grumpier Old Men|      Comedy|Romance|       3|3.2596153846153846|          52|\n",
      "|   Waiting to Exhale|Comedy|Drama|Romance|       4| 2.357142857142857|           7|\n",
      "|Father of the Bri...|              Comedy|       5|3.0714285714285716|          49|\n",
      "|                Heat|Action|Crime|Thri...|       6| 3.946078431372549|         102|\n",
      "|             Sabrina|      Comedy|Romance|       7| 3.185185185185185|          54|\n",
      "|        Tom and Huck|  Adventure|Children|       8|             2.875|           8|\n",
      "|        Sudden Death|              Action|       9|             3.125|          16|\n",
      "|           GoldenEye|Action|Adventure|...|      10| 3.496212121212121|         132|\n",
      "|American Presiden...|Comedy|Drama|Romance|      11|3.6714285714285713|          70|\n",
      "|Dracula: Dead and...|       Comedy|Horror|      12|2.4210526315789473|          19|\n",
      "|               Balto|Adventure|Animati...|      13|             3.125|           8|\n",
      "|               Nixon|               Drama|      14|3.8333333333333335|          18|\n",
      "|    Cutthroat Island|Action|Adventure|...|      15|               3.0|          13|\n",
      "|              Casino|         Crime|Drama|      16| 3.926829268292683|          82|\n",
      "|Sense and Sensibi...|       Drama|Romance|      17|3.7761194029850746|          67|\n",
      "|          Four Rooms|              Comedy|      18|               3.7|          20|\n",
      "|Ace Ventura: When...|              Comedy|      19| 2.727272727272727|          88|\n",
      "|         Money Train|Action|Comedy|Cri...|      20|               2.5|          15|\n",
      "+--------------------+--------------------+--------+------------------+------------+\n",
      "only showing top 20 rows\n",
      "\n"
     ]
    }
   ],
   "source": [
    "movies_ratings_summary_data.show()"
   ]
  },
  {
   "cell_type": "code",
   "execution_count": 58,
   "metadata": {
    "scrolled": true
   },
   "outputs": [
    {
     "name": "stdout",
     "output_type": "stream",
     "text": [
      "Pixiedust database opened successfully\n"
     ]
    },
    {
     "data": {
      "text/html": [
       "\n",
       "        <div style=\"margin:10px\">\n",
       "            <a href=\"https://github.com/ibm-watson-data-lab/pixiedust\" target=\"_new\">\n",
       "                <img src=\"https://github.com/ibm-watson-data-lab/pixiedust/raw/master/docs/_static/pd_icon32.png\" style=\"float:left;margin-right:10px\"/>\n",
       "            </a>\n",
       "            <span>Pixiedust version 1.1.15</span>\n",
       "        </div>\n",
       "        "
      ],
      "text/plain": [
       "<IPython.core.display.HTML object>"
      ]
     },
     "metadata": {},
     "output_type": "display_data"
    },
    {
     "data": {
      "text/html": [
       "<div>Warning: You are not running the latest version of PixieDust. Current is 1.1.15, Latest is 1.1.19</div>"
      ],
      "text/plain": [
       "<IPython.core.display.HTML object>"
      ]
     },
     "metadata": {},
     "output_type": "display_data"
    },
    {
     "data": {
      "text/html": [
       "\n",
       "                <div>Please copy and run the following command in a new cell to upgrade: <span style=\"background-color:#ececec;font-family:monospace;padding:0 5px\">!pip install --user --upgrade pixiedust</span></div>\n",
       "            "
      ],
      "text/plain": [
       "<IPython.core.display.HTML object>"
      ]
     },
     "metadata": {},
     "output_type": "display_data"
    },
    {
     "data": {
      "text/html": [
       "<div>Please restart kernel after upgrading.</div>"
      ],
      "text/plain": [
       "<IPython.core.display.HTML object>"
      ]
     },
     "metadata": {},
     "output_type": "display_data"
    }
   ],
   "source": [
    "import pixiedust"
   ]
  },
  {
   "cell_type": "code",
   "execution_count": null,
   "metadata": {
    "pixiedust": {
     "displayParams": {
      "chartsize": "100",
      "filter": "{\"field\": \"Genres\", \"constraint\": \"None\", \"value\": \"Horror|Romance|Crime| \", \"case_matter\": \"true\", \"regex\": \"true\"}",
      "handlerId": "pieChart",
      "keyFields": "Genres",
      "legend": "false",
      "mpld3": "false",
      "no_margin": "true",
      "valueFields": "Avg_Rating",
      "ylabel": "false"
     }
    },
    "scrolled": false
   },
   "outputs": [
    {
     "data": {
      "text/html": [
       "<style type=\"text/css\">.pd_warning{display:none;}</style><div class=\"pd_warning\"><em>Hey, there's something awesome here! To see it, open this notebook outside GitHub, in a viewer like Jupyter</em></div>"
      ],
      "text/plain": [
       "<IPython.core.display.HTML object>"
      ]
     },
     "metadata": {
      "pixieapp_metadata": null
     },
     "output_type": "display_data"
    }
   ],
   "source": [
    "display(movies_ratings_summary_data)"
   ]
  },
  {
   "cell_type": "markdown",
   "metadata": {},
   "source": [
    "# More on Geners  "
   ]
  },
  {
   "cell_type": "code",
   "execution_count": 103,
   "metadata": {},
   "outputs": [],
   "source": [
    "# Separating all the Geners\n",
    "\n",
    "from pyspark.sql.functions import split, explode\n",
    "\n",
    "Gen = movies.withColumn(\"Genres\", explode(split(\"Genres\", \"[ | ]\")))\n"
   ]
  },
  {
   "cell_type": "code",
   "execution_count": 104,
   "metadata": {
    "scrolled": false
   },
   "outputs": [],
   "source": [
    "# Count on individual Geners\n",
    "\n",
    "D_Gen = Gen.groupBy('Genres').count()"
   ]
  },
  {
   "cell_type": "code",
   "execution_count": null,
   "metadata": {},
   "outputs": [],
   "source": []
  },
  {
   "cell_type": "code",
   "execution_count": 105,
   "metadata": {
    "pixiedust": {
     "displayParams": {
      "aggregation": "SUM",
      "chartsize": "100",
      "filter": "{\"field\": \"count\", \"constraint\": \"greater_than\", \"value\": \"500\", \"case_matter\": \"False\", \"regex\": \"False\"}",
      "handlerId": "pieChart",
      "keyFields": "Genres",
      "legend": "false",
      "mpld3": "false",
      "no_margin": "true",
      "orientation": "horizontal",
      "timeseries": "false",
      "valueFields": "count",
      "ylabel": "true"
     }
    }
   },
   "outputs": [
    {
     "data": {
      "text/html": [
       "<style type=\"text/css\">.pd_warning{display:none;}</style><div class=\"pd_warning\"><em>Hey, there's something awesome here! To see it, open this notebook outside GitHub, in a viewer like Jupyter</em></div>"
      ],
      "text/plain": [
       "<IPython.core.display.HTML object>"
      ]
     },
     "metadata": {
      "pixieapp_metadata": null
     },
     "output_type": "display_data"
    }
   ],
   "source": [
    "display(D_Gen)"
   ]
  },
  {
   "cell_type": "code",
   "execution_count": null,
   "metadata": {},
   "outputs": [],
   "source": []
  },
  {
   "cell_type": "code",
   "execution_count": null,
   "metadata": {},
   "outputs": [],
   "source": []
  },
  {
   "cell_type": "markdown",
   "metadata": {},
   "source": [
    "# No Significance in data  "
   ]
  },
  {
   "cell_type": "code",
   "execution_count": 63,
   "metadata": {},
   "outputs": [],
   "source": [
    "# Registering a Temporary Table\n",
    "\n",
    "movies_ratings_summary_data.registerTempTable('TempTable')\n"
   ]
  },
  {
   "cell_type": "code",
   "execution_count": 64,
   "metadata": {},
   "outputs": [],
   "source": [
    "# SQL code for creating a temporary table \n",
    "\n",
    "No_Significance_TT = sqlContext.sql(\"select *\\\n",
    "from TempTable  \\\n",
    "where Avg_Rating=5 and Rating_Count>1\")"
   ]
  },
  {
   "cell_type": "code",
   "execution_count": 65,
   "metadata": {},
   "outputs": [
    {
     "name": "stdout",
     "output_type": "stream",
     "text": [
      "+--------------------+--------------------+--------+----------+------------+\n",
      "|               Title|              Genres|Movie_ID|Avg_Rating|Rating_Count|\n",
      "+--------------------+--------------------+--------+----------+------------+\n",
      "|            Lamerica|     Adventure|Drama|      53|       5.0|           2|\n",
      "|Heidi Fleiss: Hol...|         Documentary|      99|       5.0|           2|\n",
      "|        Lesson Faust|Animation|Comedy|...|    1151|       5.0|           2|\n",
      "|Jonah Who Will Be...|              Comedy|    3473|       5.0|           2|\n",
      "|        Belle époque|      Comedy|Romance|    6442|       5.0|           2|\n",
      "|Come and See (Idi...|           Drama|War|    6818|       5.0|           2|\n",
      "|      Enter the Void|               Drama|   78836|       5.0|           2|\n",
      "+--------------------+--------------------+--------+----------+------------+\n",
      "\n"
     ]
    }
   ],
   "source": [
    "# Calling an action on the table \n",
    "\n",
    "No_Significance_TT.show()"
   ]
  },
  {
   "cell_type": "code",
   "execution_count": 66,
   "metadata": {
    "scrolled": true
   },
   "outputs": [
    {
     "data": {
      "text/plain": [
       "7"
      ]
     },
     "execution_count": 66,
     "metadata": {},
     "output_type": "execute_result"
    }
   ],
   "source": [
    "No_Significance_TT.count()"
   ]
  },
  {
   "cell_type": "code",
   "execution_count": null,
   "metadata": {},
   "outputs": [],
   "source": []
  },
  {
   "cell_type": "markdown",
   "metadata": {},
   "source": [
    "# High Rated movies with High Count  "
   ]
  },
  {
   "cell_type": "code",
   "execution_count": 67,
   "metadata": {},
   "outputs": [],
   "source": [
    "# Registering Temporary Table\n",
    "\n",
    "movies_ratings_summary_data.registerTempTable('TempTable1')"
   ]
  },
  {
   "cell_type": "code",
   "execution_count": 68,
   "metadata": {
    "scrolled": false
   },
   "outputs": [],
   "source": [
    "# SQL code for creating a Temporary Table \n",
    "\n",
    "HR_HC = sqlContext.sql(\"select *\\\n",
    "from TempTable1  \\\n",
    "where Avg_Rating>4.0 and Rating_Count>300\")\n"
   ]
  },
  {
   "cell_type": "code",
   "execution_count": 69,
   "metadata": {
    "scrolled": true
   },
   "outputs": [
    {
     "name": "stdout",
     "output_type": "stream",
     "text": [
      "+-------------------------+---------------------------+--------+-----------------+------------+\n",
      "|Title                    |Genres                     |Movie_ID|Avg_Rating       |Rating_Count|\n",
      "+-------------------------+---------------------------+--------+-----------------+------------+\n",
      "|Pulp Fiction             |Comedy|Crime|Drama|Thriller|296     |4.197068403908795|307         |\n",
      "|Shawshank Redemption, The|Crime|Drama                |318     |4.429022082018927|317         |\n",
      "|Forrest Gump             |Comedy|Drama|Romance|War   |356     |4.164133738601824|329         |\n",
      "+-------------------------+---------------------------+--------+-----------------+------------+\n",
      "\n"
     ]
    }
   ],
   "source": [
    "# Remove any leading and lagging spaces using trim function\n",
    "\n",
    "HR_HC = HR_HC \\\n",
    ".withColumn('Title', trim(HR_HC.Title))\n",
    "\n",
    "HR_HC.show(truncate =False)"
   ]
  },
  {
   "cell_type": "code",
   "execution_count": null,
   "metadata": {},
   "outputs": [],
   "source": []
  },
  {
   "cell_type": "markdown",
   "metadata": {},
   "source": [
    "# Least Rated movies with Least Count"
   ]
  },
  {
   "cell_type": "code",
   "execution_count": 70,
   "metadata": {},
   "outputs": [],
   "source": [
    "# Registering Temporary Table\n",
    "\n",
    "movies_ratings_summary_data.registerTempTable('TempTable2')"
   ]
  },
  {
   "cell_type": "code",
   "execution_count": 71,
   "metadata": {},
   "outputs": [],
   "source": [
    "# SQL code for creating a Temporary Table \n",
    "\n",
    "LR_LC = sqlContext.sql(\"select *\\\n",
    "from TempTable2  \\\n",
    "where Avg_Rating<1.5 and Rating_Count>5\")"
   ]
  },
  {
   "cell_type": "code",
   "execution_count": 72,
   "metadata": {},
   "outputs": [
    {
     "name": "stdout",
     "output_type": "stream",
     "text": [
      "+-----------------------+----------------------+--------+------------------+------------+\n",
      "|Title                  |Genres                |Movie_ID|Avg_Rating        |Rating_Count|\n",
      "+-----------------------+----------------------+--------+------------------+------------+\n",
      "|Stuart Saves His Family|Comedy                |312     |1.4444444444444444|9           |\n",
      "|Jaws 3-D               |Action|Horror         |1389    |1.4166666666666667|6           |\n",
      "|Spice World            |Comedy                |1760    |1.35              |10          |\n",
      "|Problem Child 2        |Comedy                |2799    |1.3125            |8           |\n",
      "|Jason X                |Horror|Sci-Fi|Thriller|5323    |1.1875            |8           |\n",
      "|Catwoman               |Action|Crime|Fantasy  |8666    |1.3333333333333333|9           |\n",
      "+-----------------------+----------------------+--------+------------------+------------+\n",
      "\n"
     ]
    }
   ],
   "source": [
    "#remove any leading and lagging spaces using trim function\n",
    "\n",
    "LR_LC = LR_LC \\\n",
    ".withColumn('Title', trim(LR_LC.Title))\n",
    "\n",
    "LR_LC.show(truncate =False)"
   ]
  },
  {
   "cell_type": "code",
   "execution_count": 73,
   "metadata": {
    "pixiedust": {
     "displayParams": {
      "chartsize": "85",
      "clusterby": "Rating_Count",
      "handlerId": "barChart",
      "keyFields": "Title",
      "mpld3": "false",
      "orientation": "horizontal",
      "valueFields": "Avg_Rating"
     }
    }
   },
   "outputs": [
    {
     "data": {
      "text/html": [
       "<style type=\"text/css\">.pd_warning{display:none;}</style><div class=\"pd_warning\"><em>Hey, there's something awesome here! To see it, open this notebook outside GitHub, in a viewer like Jupyter</em></div>\n",
       "        <div class=\"pd_save is-viewer-good\" style=\"padding-right:10px;text-align: center;line-height:initial !important;font-size: xx-large;font-weight: 500;color: coral;\">\n",
       "            \n",
       "        </div>\n",
       "    <div id=\"chartFigureb2ccee56\" class=\"pd_save is-viewer-good\" style=\"overflow-x:auto\">\n",
       "            \n",
       "                    \n",
       "                            <center><img style=\"max-width:initial !important\" src=\"data:image/png;base64,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\" class=\"pd_save\"></center>\n",
       "                        \n",
       "                    \n",
       "                \n",
       "        </div>"
      ],
      "text/plain": [
       "<IPython.core.display.HTML object>"
      ]
     },
     "metadata": {},
     "output_type": "display_data"
    }
   ],
   "source": [
    "display(LR_LC)"
   ]
  },
  {
   "cell_type": "code",
   "execution_count": null,
   "metadata": {},
   "outputs": [],
   "source": []
  },
  {
   "cell_type": "code",
   "execution_count": 74,
   "metadata": {
    "pixiedust": {
     "displayParams": {
      "chartsize": "90",
      "clusterby": "Rating_Count",
      "handlerId": "barChart",
      "keyFields": "Title",
      "valueFields": "Avg_Rating"
     }
    }
   },
   "outputs": [
    {
     "data": {
      "text/html": [
       "<style type=\"text/css\">.pd_warning{display:none;}</style><div class=\"pd_warning\"><em>Hey, there's something awesome here! To see it, open this notebook outside GitHub, in a viewer like Jupyter</em></div>\n",
       "        <div class=\"pd_save is-viewer-good\" style=\"padding-right:10px;text-align: center;line-height:initial !important;font-size: xx-large;font-weight: 500;color: coral;\">\n",
       "            \n",
       "        </div>\n",
       "    <div id=\"chartFigure7f5670d8\" class=\"pd_save is-viewer-good\" style=\"overflow-x:auto\">\n",
       "            \n",
       "                    \n",
       "                            <center><img style=\"max-width:initial !important\" src=\"data:image/png;base64,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\" class=\"pd_save\"></center>\n",
       "                        \n",
       "                    \n",
       "                \n",
       "        </div>"
      ],
      "text/plain": [
       "<IPython.core.display.HTML object>"
      ]
     },
     "metadata": {},
     "output_type": "display_data"
    }
   ],
   "source": [
    "display(HR_HC)"
   ]
  },
  {
   "cell_type": "code",
   "execution_count": null,
   "metadata": {},
   "outputs": [],
   "source": []
  },
  {
   "cell_type": "code",
   "execution_count": 75,
   "metadata": {
    "pixiedust": {
     "displayParams": {
      "chartsize": "70",
      "clusterby": "Rating_Count",
      "handlerId": "barChart",
      "keyFields": "Genres",
      "orientation": "horizontal",
      "rendererId": "matplotlib",
      "valueFields": "Avg_Rating"
     }
    },
    "scrolled": true
   },
   "outputs": [
    {
     "data": {
      "text/html": [
       "<style type=\"text/css\">.pd_warning{display:none;}</style><div class=\"pd_warning\"><em>Hey, there's something awesome here! To see it, open this notebook outside GitHub, in a viewer like Jupyter</em></div>\n",
       "        <div class=\"pd_save is-viewer-good\" style=\"padding-right:10px;text-align: center;line-height:initial !important;font-size: xx-large;font-weight: 500;color: coral;\">\n",
       "            \n",
       "        </div>\n",
       "    <div id=\"chartFigure17a36d14\" class=\"pd_save is-viewer-good\" style=\"overflow-x:auto\">\n",
       "            \n",
       "                    \n",
       "                            <center><img style=\"max-width:initial !important\" src=\"data:image/png;base64,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\" class=\"pd_save\"></center>\n",
       "                        \n",
       "                    \n",
       "                \n",
       "        </div>"
      ],
      "text/plain": [
       "<IPython.core.display.HTML object>"
      ]
     },
     "metadata": {},
     "output_type": "display_data"
    }
   ],
   "source": [
    "display(No_Significance_TT)"
   ]
  },
  {
   "cell_type": "code",
   "execution_count": 76,
   "metadata": {
    "pixiedust": {
     "displayParams": {
      "handlerId": "barChart",
      "keyFields": "Rating",
      "orientation": "horizontal",
      "valueFields": "IMDB_ID"
     }
    },
    "scrolled": true
   },
   "outputs": [
    {
     "data": {
      "text/html": [
       "<style type=\"text/css\">.pd_warning{display:none;}</style><div class=\"pd_warning\"><em>Hey, there's something awesome here! To see it, open this notebook outside GitHub, in a viewer like Jupyter</em></div>\n",
       "        <div class=\"pd_save is-viewer-good\" style=\"padding-right:10px;text-align: center;line-height:initial !important;font-size: xx-large;font-weight: 500;color: coral;\">\n",
       "            \n",
       "        </div>\n",
       "    <div id=\"chartFigure9eb7a745\" class=\"pd_save is-viewer-good\" style=\"overflow-x:auto\">\n",
       "            \n",
       "                    \n",
       "                            <center><img style=\"max-width:initial !important\" src=\"data:image/png;base64,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\" class=\"pd_save\"></center>\n",
       "                        \n",
       "                    \n",
       "                \n",
       "        </div>"
      ],
      "text/plain": [
       "<IPython.core.display.HTML object>"
      ]
     },
     "metadata": {},
     "output_type": "display_data"
    }
   ],
   "source": [
    "display(whole_data)"
   ]
  },
  {
   "cell_type": "code",
   "execution_count": null,
   "metadata": {},
   "outputs": [],
   "source": []
  },
  {
   "cell_type": "markdown",
   "metadata": {},
   "source": [
    "# Machine Learning Aproach"
   ]
  },
  {
   "cell_type": "code",
   "execution_count": null,
   "metadata": {},
   "outputs": [],
   "source": []
  },
  {
   "cell_type": "code",
   "execution_count": 77,
   "metadata": {},
   "outputs": [],
   "source": [
    "# Splitting the data into training and test set.\n",
    "\n",
    "(training,test)=ratings.randomSplit([0.7,0.3])"
   ]
  },
  {
   "cell_type": "markdown",
   "metadata": {},
   "source": [
    "Alternating Least Squares (ALS) is a matrix factorisation technique that tries to estimate the ratings matrix as the product of two lower-rank matrices. It's a loop. One of the factor matrices is held unchanged throughout each iteration, while the other is solved using least squares. While solving for the other factor matrix, the newly solved factor matrix is kept constant.\n",
    "\n",
    "\n",
    "ALS can overcome two big challenges-\n",
    "\n",
    "Sparsity- Not all items will be rated so there will be lot of blank infrmation in user item matrix.\n",
    "Cold start problem- Addition of a new user or a new item where both do not have history in terms of ratings.\n",
    "Model parameters for ALS are-\n",
    "\n",
    "- maxIter- number of iterations ALS will do.\n",
    "- regParam- the regularization parameter in ALS \n",
    "- userCol,itemCol and ratingCol are the setting features\n",
    "- coldStartStrategy - when prediction is run and a model is not trained for a particular user/ ratings or items are not found for a user then it will drop those users if given “drop” as parameter’s value."
   ]
  },
  {
   "cell_type": "code",
   "execution_count": 78,
   "metadata": {},
   "outputs": [],
   "source": [
    "# Creating ALS Model\n",
    "\n",
    "als=ALS(maxIter=5,regParam=0.01,userCol=\"User_ID\",itemCol=\"Movie_ID\",ratingCol=\"Rating\",coldStartStrategy=\"drop\")"
   ]
  },
  {
   "cell_type": "code",
   "execution_count": 79,
   "metadata": {},
   "outputs": [],
   "source": [
    "model=als.fit(training)"
   ]
  },
  {
   "cell_type": "code",
   "execution_count": 80,
   "metadata": {},
   "outputs": [],
   "source": [
    "predictions=model.transform(test)"
   ]
  },
  {
   "cell_type": "code",
   "execution_count": 81,
   "metadata": {},
   "outputs": [],
   "source": [
    "# Defining the evaluation as ROOT MEAN SQUARED ERROR (RMSE).\n",
    "\n",
    "evaluator=RegressionEvaluator(metricName=\"rmse\",labelCol=\"Rating\",predictionCol=\"prediction\")"
   ]
  },
  {
   "cell_type": "code",
   "execution_count": 82,
   "metadata": {},
   "outputs": [],
   "source": [
    "rmse=evaluator.evaluate(predictions)"
   ]
  },
  {
   "cell_type": "code",
   "execution_count": 83,
   "metadata": {},
   "outputs": [
    {
     "name": "stdout",
     "output_type": "stream",
     "text": [
      "RMSE=1.1285110822664135\n"
     ]
    }
   ],
   "source": [
    "print(\"RMSE=\"+str(rmse))"
   ]
  },
  {
   "cell_type": "code",
   "execution_count": 84,
   "metadata": {},
   "outputs": [],
   "source": [
    "als=ALS(userCol=\"User_ID\",itemCol=\"Movie_ID\",ratingCol=\"Rating\",coldStartStrategy=\"drop\",nonnegative=True)\n",
    "\n",
    "#param_grid=ParamGridBuilder().addGrid(als.rank,[5,10,15]).addGrid(als.maxIter,[5,10,15]).addGrid(als.regParam,[0.01,0.05,0.1]).build()\n",
    "\n",
    "#evaluator=RegressionEvaluator(metricName=\"rmse\",labelCol=\"rating\",predictionCol=\"prediction\")\n",
    "\n",
    "#tvs=TrainValidationSplit(estimator=als,estimatorParamMaps=param_grid,evaluator=evaluator)\n",
    "\n"
   ]
  },
  {
   "cell_type": "code",
   "execution_count": 85,
   "metadata": {},
   "outputs": [],
   "source": [
    "#Tuning the model using the parameter grid builder\n",
    "\n",
    "param_grid = ParamGridBuilder()\\\n",
    "             .addGrid(als.rank,[5,10,15])\\\n",
    "             .addGrid(als.maxIter,[5,10,15])\\\n",
    "             .addGrid(als.regParam,[0.01,0.05,0.1])\\\n",
    "             .build()\n"
   ]
  },
  {
   "cell_type": "code",
   "execution_count": 86,
   "metadata": {
    "pixiedust": {
     "displayParams": {
      "handlerId": "tableView"
     }
    }
   },
   "outputs": [
    {
     "data": {
      "text/html": [
       "<style type=\"text/css\">.pd_warning{display:none;}</style><div class=\"pd_warning\"><em>Hey, there's something awesome here! To see it, open this notebook outside GitHub, in a viewer like Jupyter</em></div>\n",
       "        <div class=\"pd_save is-viewer-good\" style=\"padding-right:10px;text-align: center;line-height:initial !important;font-size: xx-large;font-weight: 500;color: coral;\">\n",
       "            \n",
       "        </div>\n",
       "    <div id=\"chartFigurec67d55f0\" class=\"pd_save is-viewer-good\" style=\"overflow-x:auto\">\n",
       "            <style type=\"text/css\" class=\"pd_save\">\n",
       "    .df-table-wrapper .panel-heading {\n",
       "      border-radius: 0;\n",
       "      padding: 0px;\n",
       "    }\n",
       "    .df-table-wrapper .panel-heading:hover {\n",
       "      border-color: #008571;\n",
       "    }\n",
       "    .df-table-wrapper .panel-title a {\n",
       "      background-color: #f9f9fb;\n",
       "      color: #333333;\n",
       "      display: block;\n",
       "      outline: none;\n",
       "      padding: 10px 15px;\n",
       "      text-decoration: none;\n",
       "    }\n",
       "    .df-table-wrapper .panel-title a:hover {\n",
       "      background-color: #337ab7;\n",
       "      border-color: #2e6da4;\n",
       "      color: #ffffff;\n",
       "      display: block;\n",
       "      padding: 10px 15px;\n",
       "      text-decoration: none;\n",
       "    }\n",
       "    .df-table-wrapper {\n",
       "      font-size: small;\n",
       "      font-weight: 300;\n",
       "      letter-spacing: 0.5px;\n",
       "      line-height: normal;\n",
       "      height: inherit;\n",
       "      overflow: auto;\n",
       "    }\n",
       "    .df-table-search {\n",
       "      margin: 0 0 20px 0;\n",
       "    }\n",
       "    .df-table-search-count {\n",
       "      display: inline-block;\n",
       "      margin: 0 0 20px 0;\n",
       "    }\n",
       "    .df-table-container {\n",
       "      max-height: 50vh;\n",
       "      max-width: 100%;\n",
       "      overflow-x: auto;\n",
       "      position: relative;\n",
       "    }\n",
       "    .df-table-wrapper table {\n",
       "      border: 0 none #ffffff;\n",
       "      border-collapse: collapse;\n",
       "      margin: 0;\n",
       "      min-width: 100%;\n",
       "      padding: 0;\n",
       "      table-layout: fixed;\n",
       "      height: inherit;\n",
       "      overflow: auto;\n",
       "    }\n",
       "    .df-table-wrapper tr.hidden {\n",
       "      display: none;\n",
       "    }\n",
       "    .df-table-wrapper tr:nth-child(even) {\n",
       "      background-color: #f9f9fb;\n",
       "    }\n",
       "    .df-table-wrapper tr.even {\n",
       "      background-color: #f9f9fb;\n",
       "    }\n",
       "    .df-table-wrapper tr.odd {\n",
       "      background-color: #ffffff;\n",
       "    }\n",
       "    .df-table-wrapper td + td {\n",
       "      border-left: 1px solid #e0e0e0;\n",
       "    }\n",
       "  \n",
       "    .df-table-wrapper thead,\n",
       "    .fixed-header {\n",
       "      font-weight: 600;\n",
       "    }\n",
       "    .df-table-wrapper tr,\n",
       "    .fixed-row {\n",
       "      border: 0 none #ffffff;\n",
       "      margin: 0;\n",
       "      padding: 0;\n",
       "    }\n",
       "    .df-table-wrapper th,\n",
       "    .df-table-wrapper td,\n",
       "    .fixed-cell {\n",
       "      border: 0 none #ffffff;\n",
       "      margin: 0;\n",
       "      min-width: 50px;\n",
       "      padding: 5px 20px 5px 10px;\n",
       "      text-align: left;\n",
       "      word-wrap: break-word;\n",
       "    }\n",
       "    .df-table-wrapper th {\n",
       "      padding-bottom: 0;\n",
       "      padding-top: 0;\n",
       "    }\n",
       "    .df-table-wrapper th div {\n",
       "      max-height: 1px;\n",
       "      visibility: hidden;\n",
       "    }\n",
       "  \n",
       "    .df-schema-field {\n",
       "      margin-left: 10px;\n",
       "    }\n",
       "  \n",
       "    .fixed-header-container {\n",
       "      overflow: hidden;\n",
       "      position: relative;\n",
       "    }\n",
       "    .fixed-header {\n",
       "      border-bottom: 2px solid #000;\n",
       "      display: table;\n",
       "      position: relative;\n",
       "    }\n",
       "    .fixed-row {\n",
       "      display: table-row;\n",
       "    }\n",
       "    .fixed-cell {\n",
       "      display: table-cell;\n",
       "    }\n",
       "  </style>\n",
       "  \n",
       "  \n",
       "  <div class=\"df-table-wrapper df-table-wrapper-c67d55f0 panel-group pd_save\">\n",
       "    <!-- dataframe schema -->\n",
       "    \n",
       "    <div class=\"panel panel-default\">\n",
       "      <div class=\"panel-heading\">\n",
       "        <h4 class=\"panel-title\" style=\"margin: 0px;\">\n",
       "          <a data-toggle=\"collapse\" href=\"#df-schema-c67d55f0\" data-parent=\"#df-table-wrapper-c67d55f0\">Schema</a>\n",
       "        </h4>\n",
       "      </div>\n",
       "      <div id=\"df-schema-c67d55f0\" class=\"panel-collapse collapse\">\n",
       "        <div class=\"panel-body\" style=\"font-family: monospace;\">\n",
       "          <div class=\"df-schema-fields\">\n",
       "            <div>Field types:</div>\n",
       "            \n",
       "              <div class=\"df-schema-field\"><strong>ALS_17890becabfc__rank: </strong> int64</div>\n",
       "            \n",
       "              <div class=\"df-schema-field\"><strong>ALS_17890becabfc__maxIter: </strong> int64</div>\n",
       "            \n",
       "              <div class=\"df-schema-field\"><strong>ALS_17890becabfc__regParam: </strong> float64</div>\n",
       "            \n",
       "          </div>\n",
       "        </div>\n",
       "      </div>\n",
       "    </div>\n",
       "    \n",
       "    <!-- dataframe table -->\n",
       "    <div class=\"panel panel-default\">\n",
       "      \n",
       "      <div class=\"panel-heading\">\n",
       "        <h4 class=\"panel-title\" style=\"margin: 0px;\">\n",
       "          <a data-toggle=\"collapse\" href=\"#df-table-c67d55f0\" data-parent=\"#df-table-wrapper-c67d55f0\"> Table</a>\n",
       "        </h4>\n",
       "      </div>\n",
       "      \n",
       "      <div id=\"df-table-c67d55f0\" class=\"panel-collapse collapse in\">\n",
       "        <div class=\"panel-body\">\n",
       "          \n",
       "          <input type=\"text\" class=\"df-table-search form-control input-sm\" placeholder=\"Search table\">\n",
       "          \n",
       "          <div>\n",
       "            \n",
       "            <span class=\"df-table-search-count\">Showing 27 of 27 rows</span>\n",
       "            \n",
       "          </div>\n",
       "          <!-- fixed header for when dataframe table scrolls -->\n",
       "          <div class=\"fixed-header-container\">\n",
       "            <div class=\"fixed-header\">\n",
       "              <div class=\"fixed-row\">\n",
       "                \n",
       "                <div class=\"fixed-cell\">ALS_17890becabfc__rank</div>\n",
       "                \n",
       "                <div class=\"fixed-cell\">ALS_17890becabfc__maxIter</div>\n",
       "                \n",
       "                <div class=\"fixed-cell\">ALS_17890becabfc__regParam</div>\n",
       "                \n",
       "              </div>\n",
       "            </div>\n",
       "          </div>\n",
       "          <div class=\"df-table-container\">\n",
       "            <table class=\"df-table\">\n",
       "              <thead>\n",
       "                <tr>\n",
       "                  \n",
       "                  <th><div>ALS_17890becabfc__rank</div></th>\n",
       "                  \n",
       "                  <th><div>ALS_17890becabfc__maxIter</div></th>\n",
       "                  \n",
       "                  <th><div>ALS_17890becabfc__regParam</div></th>\n",
       "                  \n",
       "                </tr>\n",
       "              </thead>\n",
       "              <tbody>\n",
       "                \n",
       "                <tr>\n",
       "                  \n",
       "                  <td>5.0</td>\n",
       "                  \n",
       "                  <td>5.0</td>\n",
       "                  \n",
       "                  <td>0.01</td>\n",
       "                  \n",
       "                </tr>\n",
       "                \n",
       "                <tr>\n",
       "                  \n",
       "                  <td>5.0</td>\n",
       "                  \n",
       "                  <td>5.0</td>\n",
       "                  \n",
       "                  <td>0.05</td>\n",
       "                  \n",
       "                </tr>\n",
       "                \n",
       "                <tr>\n",
       "                  \n",
       "                  <td>5.0</td>\n",
       "                  \n",
       "                  <td>5.0</td>\n",
       "                  \n",
       "                  <td>0.1</td>\n",
       "                  \n",
       "                </tr>\n",
       "                \n",
       "                <tr>\n",
       "                  \n",
       "                  <td>5.0</td>\n",
       "                  \n",
       "                  <td>10.0</td>\n",
       "                  \n",
       "                  <td>0.01</td>\n",
       "                  \n",
       "                </tr>\n",
       "                \n",
       "                <tr>\n",
       "                  \n",
       "                  <td>5.0</td>\n",
       "                  \n",
       "                  <td>10.0</td>\n",
       "                  \n",
       "                  <td>0.05</td>\n",
       "                  \n",
       "                </tr>\n",
       "                \n",
       "                <tr>\n",
       "                  \n",
       "                  <td>5.0</td>\n",
       "                  \n",
       "                  <td>10.0</td>\n",
       "                  \n",
       "                  <td>0.1</td>\n",
       "                  \n",
       "                </tr>\n",
       "                \n",
       "                <tr>\n",
       "                  \n",
       "                  <td>5.0</td>\n",
       "                  \n",
       "                  <td>15.0</td>\n",
       "                  \n",
       "                  <td>0.01</td>\n",
       "                  \n",
       "                </tr>\n",
       "                \n",
       "                <tr>\n",
       "                  \n",
       "                  <td>5.0</td>\n",
       "                  \n",
       "                  <td>15.0</td>\n",
       "                  \n",
       "                  <td>0.05</td>\n",
       "                  \n",
       "                </tr>\n",
       "                \n",
       "                <tr>\n",
       "                  \n",
       "                  <td>5.0</td>\n",
       "                  \n",
       "                  <td>15.0</td>\n",
       "                  \n",
       "                  <td>0.1</td>\n",
       "                  \n",
       "                </tr>\n",
       "                \n",
       "                <tr>\n",
       "                  \n",
       "                  <td>10.0</td>\n",
       "                  \n",
       "                  <td>5.0</td>\n",
       "                  \n",
       "                  <td>0.01</td>\n",
       "                  \n",
       "                </tr>\n",
       "                \n",
       "                <tr>\n",
       "                  \n",
       "                  <td>10.0</td>\n",
       "                  \n",
       "                  <td>5.0</td>\n",
       "                  \n",
       "                  <td>0.05</td>\n",
       "                  \n",
       "                </tr>\n",
       "                \n",
       "                <tr>\n",
       "                  \n",
       "                  <td>10.0</td>\n",
       "                  \n",
       "                  <td>5.0</td>\n",
       "                  \n",
       "                  <td>0.1</td>\n",
       "                  \n",
       "                </tr>\n",
       "                \n",
       "                <tr>\n",
       "                  \n",
       "                  <td>10.0</td>\n",
       "                  \n",
       "                  <td>10.0</td>\n",
       "                  \n",
       "                  <td>0.01</td>\n",
       "                  \n",
       "                </tr>\n",
       "                \n",
       "                <tr>\n",
       "                  \n",
       "                  <td>10.0</td>\n",
       "                  \n",
       "                  <td>10.0</td>\n",
       "                  \n",
       "                  <td>0.05</td>\n",
       "                  \n",
       "                </tr>\n",
       "                \n",
       "                <tr>\n",
       "                  \n",
       "                  <td>10.0</td>\n",
       "                  \n",
       "                  <td>10.0</td>\n",
       "                  \n",
       "                  <td>0.1</td>\n",
       "                  \n",
       "                </tr>\n",
       "                \n",
       "                <tr>\n",
       "                  \n",
       "                  <td>10.0</td>\n",
       "                  \n",
       "                  <td>15.0</td>\n",
       "                  \n",
       "                  <td>0.01</td>\n",
       "                  \n",
       "                </tr>\n",
       "                \n",
       "                <tr>\n",
       "                  \n",
       "                  <td>10.0</td>\n",
       "                  \n",
       "                  <td>15.0</td>\n",
       "                  \n",
       "                  <td>0.05</td>\n",
       "                  \n",
       "                </tr>\n",
       "                \n",
       "                <tr>\n",
       "                  \n",
       "                  <td>10.0</td>\n",
       "                  \n",
       "                  <td>15.0</td>\n",
       "                  \n",
       "                  <td>0.1</td>\n",
       "                  \n",
       "                </tr>\n",
       "                \n",
       "                <tr>\n",
       "                  \n",
       "                  <td>15.0</td>\n",
       "                  \n",
       "                  <td>5.0</td>\n",
       "                  \n",
       "                  <td>0.01</td>\n",
       "                  \n",
       "                </tr>\n",
       "                \n",
       "                <tr>\n",
       "                  \n",
       "                  <td>15.0</td>\n",
       "                  \n",
       "                  <td>5.0</td>\n",
       "                  \n",
       "                  <td>0.05</td>\n",
       "                  \n",
       "                </tr>\n",
       "                \n",
       "                <tr>\n",
       "                  \n",
       "                  <td>15.0</td>\n",
       "                  \n",
       "                  <td>5.0</td>\n",
       "                  \n",
       "                  <td>0.1</td>\n",
       "                  \n",
       "                </tr>\n",
       "                \n",
       "                <tr>\n",
       "                  \n",
       "                  <td>15.0</td>\n",
       "                  \n",
       "                  <td>10.0</td>\n",
       "                  \n",
       "                  <td>0.01</td>\n",
       "                  \n",
       "                </tr>\n",
       "                \n",
       "                <tr>\n",
       "                  \n",
       "                  <td>15.0</td>\n",
       "                  \n",
       "                  <td>10.0</td>\n",
       "                  \n",
       "                  <td>0.05</td>\n",
       "                  \n",
       "                </tr>\n",
       "                \n",
       "                <tr>\n",
       "                  \n",
       "                  <td>15.0</td>\n",
       "                  \n",
       "                  <td>10.0</td>\n",
       "                  \n",
       "                  <td>0.1</td>\n",
       "                  \n",
       "                </tr>\n",
       "                \n",
       "                <tr>\n",
       "                  \n",
       "                  <td>15.0</td>\n",
       "                  \n",
       "                  <td>15.0</td>\n",
       "                  \n",
       "                  <td>0.01</td>\n",
       "                  \n",
       "                </tr>\n",
       "                \n",
       "                <tr>\n",
       "                  \n",
       "                  <td>15.0</td>\n",
       "                  \n",
       "                  <td>15.0</td>\n",
       "                  \n",
       "                  <td>0.05</td>\n",
       "                  \n",
       "                </tr>\n",
       "                \n",
       "                <tr>\n",
       "                  \n",
       "                  <td>15.0</td>\n",
       "                  \n",
       "                  <td>15.0</td>\n",
       "                  \n",
       "                  <td>0.1</td>\n",
       "                  \n",
       "                </tr>\n",
       "                \n",
       "              </tbody>\n",
       "            </table>\n",
       "          </div>\n",
       "        </div>\n",
       "      </div>\n",
       "    </div>\n",
       "  </div>\n",
       "  \n",
       "  <script class=\"pd_save\">\n",
       "    $(function() {\n",
       "      var tableWrapper = $('.df-table-wrapper-c67d55f0');\n",
       "      var fixedHeader = $('.fixed-header', tableWrapper);\n",
       "      var tableContainer = $('.df-table-container', tableWrapper);\n",
       "      var table = $('.df-table', tableContainer);\n",
       "      var rows = $('tbody > tr', table);\n",
       "      var total = 27;\n",
       "  \n",
       "      fixedHeader\n",
       "        .css('width', table.width())\n",
       "        .find('.fixed-cell')\n",
       "        .each(function(i, e) {\n",
       "          $(this).css('width', $('.df-table-wrapper-c67d55f0 th:nth-child(' + (i+1) + ')').css('width'));\n",
       "        });\n",
       "  \n",
       "      tableContainer.scroll(function() {\n",
       "        fixedHeader.css({ left: table.position().left });\n",
       "      });\n",
       "  \n",
       "      rows.on(\"click\", function(e){\n",
       "          var txt = e.delegateTarget.innerText;\n",
       "          var splits = txt.split(\"\\t\");\n",
       "          var len = splits.length;\n",
       "          var hdrs = $(fixedHeader).find(\".fixed-cell\");\n",
       "          // Add all cells in the selected row as a map to be consumed by the target as needed\n",
       "          var payload = {type:\"select\", targetDivId: \"\" };\n",
       "          for (var i = 0; i < len; i++) {\n",
       "            payload[hdrs[i].innerHTML] = splits[i];\n",
       "          }\n",
       "  \n",
       "          //simple selection highlighting, client adds \"selected\" class\n",
       "          $(this).addClass(\"selected\").siblings().removeClass(\"selected\");\n",
       "          $(document).trigger('pd_event', payload);\n",
       "      });\n",
       "  \n",
       "      $('.df-table-search', tableWrapper).keyup(function() {\n",
       "        var val = '^(?=.*\\\\b' + $.trim($(this).val()).split(/\\s+/).join('\\\\b)(?=.*\\\\b') + ').*$';\n",
       "        var reg = RegExp(val, 'i');\n",
       "        var index = 0;\n",
       "        \n",
       "        rows.each(function(i, e) {\n",
       "          if (!reg.test($(this).text().replace(/\\s+/g, ' '))) {\n",
       "            $(this).attr('class', 'hidden');\n",
       "          }\n",
       "          else {\n",
       "            $(this).attr('class', (++index % 2 == 0 ? 'even' : 'odd'));\n",
       "          }\n",
       "        });\n",
       "        $('.df-table-search-count', tableWrapper).html('Showing ' + index + ' of ' + total + ' rows');\n",
       "      });\n",
       "    });\n",
       "  \n",
       "    $(\".df-table-wrapper td:contains('http://')\").each(function(){var tc = this.textContent; $(this).wrapInner(\"<a target='_blank' href='\" + tc + \"'></a>\");});\n",
       "    $(\".df-table-wrapper td:contains('https://')\").each(function(){var tc = this.textContent; $(this).wrapInner(\"<a target='_blank' href='\" + tc + \"'></a>\");});\n",
       "  </script>\n",
       "  \n",
       "        </div>"
      ],
      "text/plain": [
       "<IPython.core.display.HTML object>"
      ]
     },
     "metadata": {},
     "output_type": "display_data"
    }
   ],
   "source": [
    "display(param_grid)"
   ]
  },
  {
   "cell_type": "code",
   "execution_count": 87,
   "metadata": {},
   "outputs": [],
   "source": [
    "# Defining the evaluation as ROOT MEAN SQUARED ERROR (RMSE).\n",
    "\n",
    "evaluator=RegressionEvaluator(metricName=\"rmse\",labelCol=\"Rating\",predictionCol=\"prediction\")"
   ]
  },
  {
   "cell_type": "code",
   "execution_count": 88,
   "metadata": {
    "pixiedust": {
     "displayParams": {}
    }
   },
   "outputs": [
    {
     "data": {
      "text/plain": [
       "RegressionEvaluator_333463dc6bd9"
      ]
     },
     "metadata": {},
     "output_type": "display_data"
    }
   ],
   "source": [
    "display(evaluator)"
   ]
  },
  {
   "cell_type": "code",
   "execution_count": 89,
   "metadata": {},
   "outputs": [],
   "source": [
    "# Building cross validation using the TRAINVALIDATIONSPLIT METHOD.\n",
    "\n",
    "TVS = TrainValidationSplit(\n",
    "      estimator=als,\n",
    "      estimatorParamMaps=param_grid,\n",
    "      evaluator=evaluator)"
   ]
  },
  {
   "cell_type": "code",
   "execution_count": 90,
   "metadata": {},
   "outputs": [],
   "source": [
    "# Fitting ALS Model to the training data.\n",
    "\n",
    "model = TVS.fit(training)"
   ]
  },
  {
   "cell_type": "code",
   "execution_count": 91,
   "metadata": {},
   "outputs": [],
   "source": [
    "# Extracting the best model from the tuning excercise with the help of ParamGridBuilder.\n",
    "\n",
    "best_model=model.bestModel\n",
    "\n",
    "# This will help us generate the  pridictions and evaluate using RMSE.\n",
    "\n",
    "predictions=best_model.transform(test)\n",
    "rmse=evaluator.evaluate(predictions)"
   ]
  },
  {
   "cell_type": "code",
   "execution_count": 92,
   "metadata": {},
   "outputs": [
    {
     "name": "stdout",
     "output_type": "stream",
     "text": [
      "RMSE=0.8875633396860182\n",
      "Rank=5\n",
      "MaxIter=15\n",
      "RegParam=0.1\n"
     ]
    }
   ],
   "source": [
    "print(\"RMSE=\"+str(rmse))\n",
    "print(\"Rank=\"+str(best_model.rank))\n",
    "print(\"MaxIter=\"+str(best_model._java_obj.parent().getMaxIter()))\n",
    "print(\"RegParam=\"+str(best_model._java_obj.parent().getRegParam()))"
   ]
  },
  {
   "cell_type": "code",
   "execution_count": 93,
   "metadata": {},
   "outputs": [],
   "source": [
    "z=best_model.recommendForAllUsers(10).sort(\"User_ID\")"
   ]
  },
  {
   "cell_type": "code",
   "execution_count": 94,
   "metadata": {
    "pixiedust": {
     "displayParams": {
      "handlerId": "tableView"
     }
    },
    "scrolled": false
   },
   "outputs": [
    {
     "data": {
      "text/html": [
       "<style type=\"text/css\">.pd_warning{display:none;}</style><div class=\"pd_warning\"><em>Hey, there's something awesome here! To see it, open this notebook outside GitHub, in a viewer like Jupyter</em></div>\n",
       "        <div class=\"pd_save is-viewer-good\" style=\"padding-right:10px;text-align: center;line-height:initial !important;font-size: xx-large;font-weight: 500;color: coral;\">\n",
       "            \n",
       "        </div>\n",
       "    <div id=\"chartFigure956d6622\" class=\"pd_save is-viewer-good\" style=\"overflow-x:auto\">\n",
       "            <style type=\"text/css\" class=\"pd_save\">\n",
       "    .df-table-wrapper .panel-heading {\n",
       "      border-radius: 0;\n",
       "      padding: 0px;\n",
       "    }\n",
       "    .df-table-wrapper .panel-heading:hover {\n",
       "      border-color: #008571;\n",
       "    }\n",
       "    .df-table-wrapper .panel-title a {\n",
       "      background-color: #f9f9fb;\n",
       "      color: #333333;\n",
       "      display: block;\n",
       "      outline: none;\n",
       "      padding: 10px 15px;\n",
       "      text-decoration: none;\n",
       "    }\n",
       "    .df-table-wrapper .panel-title a:hover {\n",
       "      background-color: #337ab7;\n",
       "      border-color: #2e6da4;\n",
       "      color: #ffffff;\n",
       "      display: block;\n",
       "      padding: 10px 15px;\n",
       "      text-decoration: none;\n",
       "    }\n",
       "    .df-table-wrapper {\n",
       "      font-size: small;\n",
       "      font-weight: 300;\n",
       "      letter-spacing: 0.5px;\n",
       "      line-height: normal;\n",
       "      height: inherit;\n",
       "      overflow: auto;\n",
       "    }\n",
       "    .df-table-search {\n",
       "      margin: 0 0 20px 0;\n",
       "    }\n",
       "    .df-table-search-count {\n",
       "      display: inline-block;\n",
       "      margin: 0 0 20px 0;\n",
       "    }\n",
       "    .df-table-container {\n",
       "      max-height: 50vh;\n",
       "      max-width: 100%;\n",
       "      overflow-x: auto;\n",
       "      position: relative;\n",
       "    }\n",
       "    .df-table-wrapper table {\n",
       "      border: 0 none #ffffff;\n",
       "      border-collapse: collapse;\n",
       "      margin: 0;\n",
       "      min-width: 100%;\n",
       "      padding: 0;\n",
       "      table-layout: fixed;\n",
       "      height: inherit;\n",
       "      overflow: auto;\n",
       "    }\n",
       "    .df-table-wrapper tr.hidden {\n",
       "      display: none;\n",
       "    }\n",
       "    .df-table-wrapper tr:nth-child(even) {\n",
       "      background-color: #f9f9fb;\n",
       "    }\n",
       "    .df-table-wrapper tr.even {\n",
       "      background-color: #f9f9fb;\n",
       "    }\n",
       "    .df-table-wrapper tr.odd {\n",
       "      background-color: #ffffff;\n",
       "    }\n",
       "    .df-table-wrapper td + td {\n",
       "      border-left: 1px solid #e0e0e0;\n",
       "    }\n",
       "  \n",
       "    .df-table-wrapper thead,\n",
       "    .fixed-header {\n",
       "      font-weight: 600;\n",
       "    }\n",
       "    .df-table-wrapper tr,\n",
       "    .fixed-row {\n",
       "      border: 0 none #ffffff;\n",
       "      margin: 0;\n",
       "      padding: 0;\n",
       "    }\n",
       "    .df-table-wrapper th,\n",
       "    .df-table-wrapper td,\n",
       "    .fixed-cell {\n",
       "      border: 0 none #ffffff;\n",
       "      margin: 0;\n",
       "      min-width: 50px;\n",
       "      padding: 5px 20px 5px 10px;\n",
       "      text-align: left;\n",
       "      word-wrap: break-word;\n",
       "    }\n",
       "    .df-table-wrapper th {\n",
       "      padding-bottom: 0;\n",
       "      padding-top: 0;\n",
       "    }\n",
       "    .df-table-wrapper th div {\n",
       "      max-height: 1px;\n",
       "      visibility: hidden;\n",
       "    }\n",
       "  \n",
       "    .df-schema-field {\n",
       "      margin-left: 10px;\n",
       "    }\n",
       "  \n",
       "    .fixed-header-container {\n",
       "      overflow: hidden;\n",
       "      position: relative;\n",
       "    }\n",
       "    .fixed-header {\n",
       "      border-bottom: 2px solid #000;\n",
       "      display: table;\n",
       "      position: relative;\n",
       "    }\n",
       "    .fixed-row {\n",
       "      display: table-row;\n",
       "    }\n",
       "    .fixed-cell {\n",
       "      display: table-cell;\n",
       "    }\n",
       "  </style>\n",
       "  \n",
       "  \n",
       "  <div class=\"df-table-wrapper df-table-wrapper-956d6622 panel-group pd_save\">\n",
       "    <!-- dataframe schema -->\n",
       "    \n",
       "    <div class=\"panel panel-default\">\n",
       "      <div class=\"panel-heading\">\n",
       "        <h4 class=\"panel-title\" style=\"margin: 0px;\">\n",
       "          <a data-toggle=\"collapse\" href=\"#df-schema-956d6622\" data-parent=\"#df-table-wrapper-956d6622\">Schema</a>\n",
       "        </h4>\n",
       "      </div>\n",
       "      <div id=\"df-schema-956d6622\" class=\"panel-collapse collapse\">\n",
       "        <div class=\"panel-body\" style=\"font-family: monospace;\">\n",
       "          <div class=\"df-schema-fields\">\n",
       "            <div>Field types:</div>\n",
       "            \n",
       "              <div class=\"df-schema-field\"><strong>User_ID: </strong> int32</div>\n",
       "            \n",
       "              <div class=\"df-schema-field\"><strong>recommendations: </strong> object</div>\n",
       "            \n",
       "          </div>\n",
       "        </div>\n",
       "      </div>\n",
       "    </div>\n",
       "    \n",
       "    <!-- dataframe table -->\n",
       "    <div class=\"panel panel-default\">\n",
       "      \n",
       "      <div class=\"panel-heading\">\n",
       "        <h4 class=\"panel-title\" style=\"margin: 0px;\">\n",
       "          <a data-toggle=\"collapse\" href=\"#df-table-956d6622\" data-parent=\"#df-table-wrapper-956d6622\"> Table</a>\n",
       "        </h4>\n",
       "      </div>\n",
       "      \n",
       "      <div id=\"df-table-956d6622\" class=\"panel-collapse collapse in\">\n",
       "        <div class=\"panel-body\">\n",
       "          \n",
       "          <input type=\"text\" class=\"df-table-search form-control input-sm\" placeholder=\"Search table\">\n",
       "          \n",
       "          <div>\n",
       "            \n",
       "            <span class=\"df-table-search-count\">Showing 100 of 610 rows</span>\n",
       "            \n",
       "          </div>\n",
       "          <!-- fixed header for when dataframe table scrolls -->\n",
       "          <div class=\"fixed-header-container\">\n",
       "            <div class=\"fixed-header\">\n",
       "              <div class=\"fixed-row\">\n",
       "                \n",
       "                <div class=\"fixed-cell\">User_ID</div>\n",
       "                \n",
       "                <div class=\"fixed-cell\">recommendations</div>\n",
       "                \n",
       "              </div>\n",
       "            </div>\n",
       "          </div>\n",
       "          <div class=\"df-table-container\">\n",
       "            <table class=\"df-table\">\n",
       "              <thead>\n",
       "                <tr>\n",
       "                  \n",
       "                  <th><div>User_ID</div></th>\n",
       "                  \n",
       "                  <th><div>recommendations</div></th>\n",
       "                  \n",
       "                </tr>\n",
       "              </thead>\n",
       "              <tbody>\n",
       "                \n",
       "                <tr>\n",
       "                  \n",
       "                  <td>10</td>\n",
       "                  \n",
       "                  <td>[Row(Movie_ID=26614, rating=5.133164882659912), Row(Movie_ID=8973, rating=5.111298561096191), Row(Movie_ID=4821, rating=4.984976291656494), Row(Movie_ID=3701, rating=4.768939018249512), Row(Movie_ID=3404, rating=4.743752479553223), Row(Movie_ID=98083, rating=4.734078407287598), Row(Movie_ID=78637, rating=4.731886386871338), Row(Movie_ID=7842, rating=4.720756530761719), Row(Movie_ID=55241, rating=4.711807727813721), Row(Movie_ID=104925, rating=4.669059753417969)]</td>\n",
       "                  \n",
       "                </tr>\n",
       "                \n",
       "                <tr>\n",
       "                  \n",
       "                  <td>17</td>\n",
       "                  \n",
       "                  <td>[Row(Movie_ID=6818, rating=5.517902851104736), Row(Movie_ID=7842, rating=5.494321346282959), Row(Movie_ID=33649, rating=5.142359733581543), Row(Movie_ID=187, rating=5.092215538024902), Row(Movie_ID=179135, rating=5.075789451599121), Row(Movie_ID=84273, rating=5.075789451599121), Row(Movie_ID=26073, rating=5.075789451599121), Row(Movie_ID=72171, rating=5.075789451599121), Row(Movie_ID=74226, rating=5.075789451599121), Row(Movie_ID=7071, rating=5.075789451599121)]</td>\n",
       "                  \n",
       "                </tr>\n",
       "                \n",
       "                <tr>\n",
       "                  \n",
       "                  <td>33</td>\n",
       "                  \n",
       "                  <td>[Row(Movie_ID=4789, rating=5.7640461921691895), Row(Movie_ID=132333, rating=5.497681140899658), Row(Movie_ID=5490, rating=5.497681140899658), Row(Movie_ID=85774, rating=5.477228164672852), Row(Movie_ID=5915, rating=5.370112419128418), Row(Movie_ID=80906, rating=5.341545581817627), Row(Movie_ID=174053, rating=5.265592575073242), Row(Movie_ID=2843, rating=5.225342750549316), Row(Movie_ID=8542, rating=5.216403961181641), Row(Movie_ID=26471, rating=5.208304405212402)]</td>\n",
       "                  \n",
       "                </tr>\n",
       "                \n",
       "                <tr>\n",
       "                  \n",
       "                  <td>37</td>\n",
       "                  \n",
       "                  <td>[Row(Movie_ID=7842, rating=6.3303327560424805), Row(Movie_ID=4789, rating=6.070205211639404), Row(Movie_ID=2843, rating=5.880115032196045), Row(Movie_ID=80906, rating=5.817307472229004), Row(Movie_ID=85774, rating=5.777103900909424), Row(Movie_ID=60943, rating=5.697299957275391), Row(Movie_ID=86347, rating=5.6549882888793945), Row(Movie_ID=136469, rating=5.5997209548950195), Row(Movie_ID=1251, rating=5.562978744506836), Row(Movie_ID=69524, rating=5.517935752868652)]</td>\n",
       "                  \n",
       "                </tr>\n",
       "                \n",
       "                <tr>\n",
       "                  \n",
       "                  <td>50</td>\n",
       "                  \n",
       "                  <td>[Row(Movie_ID=6818, rating=4.036270618438721), Row(Movie_ID=3473, rating=3.957252025604248), Row(Movie_ID=32582, rating=3.9348950386047363), Row(Movie_ID=5490, rating=3.9193661212921143), Row(Movie_ID=132333, rating=3.9193661212921143), Row(Movie_ID=213, rating=3.9090383052825928), Row(Movie_ID=7982, rating=3.8892173767089844), Row(Movie_ID=7767, rating=3.8562233448028564), Row(Movie_ID=6380, rating=3.852475643157959), Row(Movie_ID=6192, rating=3.8513176441192627)]</td>\n",
       "                  \n",
       "                </tr>\n",
       "                \n",
       "                <tr>\n",
       "                  \n",
       "                  <td>51</td>\n",
       "                  \n",
       "                  <td>[Row(Movie_ID=6818, rating=6.913564682006836), Row(Movie_ID=8477, rating=6.450450897216797), Row(Movie_ID=25771, rating=6.310897350311279), Row(Movie_ID=58301, rating=6.016693115234375), Row(Movie_ID=71899, rating=5.998103141784668), Row(Movie_ID=26326, rating=5.931576728820801), Row(Movie_ID=89904, rating=5.928600788116455), Row(Movie_ID=112421, rating=5.868589878082275), Row(Movie_ID=187, rating=5.83668851852417), Row(Movie_ID=143367, rating=5.805405616760254)]</td>\n",
       "                  \n",
       "                </tr>\n",
       "                \n",
       "                <tr>\n",
       "                  \n",
       "                  <td>54</td>\n",
       "                  \n",
       "                  <td>[Row(Movie_ID=6818, rating=4.389226913452148), Row(Movie_ID=7842, rating=4.078835964202881), Row(Movie_ID=3200, rating=4.015368938446045), Row(Movie_ID=7096, rating=3.9778692722320557), Row(Movie_ID=89904, rating=3.961576223373413), Row(Movie_ID=33649, rating=3.932234764099121), Row(Movie_ID=945, rating=3.9200973510742188), Row(Movie_ID=187, rating=3.9004056453704834), Row(Movie_ID=132333, rating=3.892913579940796), Row(Movie_ID=5490, rating=3.892913579940796)]</td>\n",
       "                  \n",
       "                </tr>\n",
       "                \n",
       "                <tr>\n",
       "                  \n",
       "                  <td>57</td>\n",
       "                  \n",
       "                  <td>[Row(Movie_ID=6818, rating=5.534084320068359), Row(Movie_ID=89904, rating=4.991570949554443), Row(Movie_ID=8477, rating=4.963631629943848), Row(Movie_ID=26326, rating=4.953790187835693), Row(Movie_ID=26258, rating=4.91140079498291), Row(Movie_ID=25771, rating=4.8985209465026855), Row(Movie_ID=5490, rating=4.869203567504883), Row(Movie_ID=132333, rating=4.869203567504883), Row(Movie_ID=7096, rating=4.865245819091797), Row(Movie_ID=71899, rating=4.824077606201172)]</td>\n",
       "                  \n",
       "                </tr>\n",
       "                \n",
       "                <tr>\n",
       "                  \n",
       "                  <td>60</td>\n",
       "                  \n",
       "                  <td>[Row(Movie_ID=6818, rating=5.535737037658691), Row(Movie_ID=33649, rating=5.408332347869873), Row(Movie_ID=7842, rating=5.353152275085449), Row(Movie_ID=123, rating=5.235980987548828), Row(Movie_ID=93988, rating=5.193255424499512), Row(Movie_ID=84847, rating=5.193255424499512), Row(Movie_ID=93008, rating=5.1711249351501465), Row(Movie_ID=77846, rating=5.1711249351501465), Row(Movie_ID=25906, rating=5.1711249351501465), Row(Movie_ID=42730, rating=5.127950668334961)]</td>\n",
       "                  \n",
       "                </tr>\n",
       "                \n",
       "                <tr>\n",
       "                  \n",
       "                  <td>64</td>\n",
       "                  \n",
       "                  <td>[Row(Movie_ID=6818, rating=5.484683036804199), Row(Movie_ID=7842, rating=5.0413665771484375), Row(Movie_ID=33649, rating=5.031564712524414), Row(Movie_ID=187, rating=5.016485214233398), Row(Movie_ID=7096, rating=4.903266906738281), Row(Movie_ID=945, rating=4.8866047859191895), Row(Movie_ID=132333, rating=4.870087623596191), Row(Movie_ID=5490, rating=4.870087623596191), Row(Movie_ID=84847, rating=4.8566203117370605), Row(Movie_ID=93988, rating=4.8566203117370605)]</td>\n",
       "                  \n",
       "                </tr>\n",
       "                \n",
       "                <tr>\n",
       "                  \n",
       "                  <td>66</td>\n",
       "                  \n",
       "                  <td>[Row(Movie_ID=7842, rating=5.886944770812988), Row(Movie_ID=6818, rating=5.586864471435547), Row(Movie_ID=187, rating=5.340976715087891), Row(Movie_ID=102217, rating=5.33941125869751), Row(Movie_ID=33779, rating=5.33941125869751), Row(Movie_ID=92494, rating=5.33941125869751), Row(Movie_ID=26073, rating=5.334909439086914), Row(Movie_ID=179135, rating=5.334909439086914), Row(Movie_ID=84273, rating=5.334909439086914), Row(Movie_ID=72171, rating=5.334909439086914)]</td>\n",
       "                  \n",
       "                </tr>\n",
       "                \n",
       "                <tr>\n",
       "                  \n",
       "                  <td>67</td>\n",
       "                  \n",
       "                  <td>[Row(Movie_ID=7842, rating=5.974386215209961), Row(Movie_ID=60943, rating=5.376947402954102), Row(Movie_ID=446, rating=5.308432579040527), Row(Movie_ID=2843, rating=5.3057661056518555), Row(Movie_ID=112804, rating=5.239011287689209), Row(Movie_ID=136469, rating=5.014664649963379), Row(Movie_ID=7841, rating=5.005686283111572), Row(Movie_ID=86347, rating=5.00368070602417), Row(Movie_ID=80906, rating=4.942567348480225), Row(Movie_ID=58303, rating=4.845859050750732)]</td>\n",
       "                  \n",
       "                </tr>\n",
       "                \n",
       "                <tr>\n",
       "                  \n",
       "                  <td>84</td>\n",
       "                  \n",
       "                  <td>[Row(Movie_ID=6818, rating=5.223636150360107), Row(Movie_ID=3200, rating=5.085155010223389), Row(Movie_ID=7842, rating=5.063483715057373), Row(Movie_ID=6201, rating=4.982977867126465), Row(Movie_ID=89904, rating=4.977675437927246), Row(Movie_ID=7096, rating=4.898867130279541), Row(Movie_ID=132333, rating=4.878676891326904), Row(Movie_ID=5490, rating=4.878676891326904), Row(Movie_ID=25906, rating=4.861530780792236), Row(Movie_ID=93008, rating=4.861530780792236)]</td>\n",
       "                  \n",
       "                </tr>\n",
       "                \n",
       "                <tr>\n",
       "                  \n",
       "                  <td>88</td>\n",
       "                  \n",
       "                  <td>[Row(Movie_ID=7842, rating=5.820381164550781), Row(Movie_ID=6818, rating=5.428592681884766), Row(Movie_ID=102217, rating=5.3354315757751465), Row(Movie_ID=92494, rating=5.3354315757751465), Row(Movie_ID=33779, rating=5.3354315757751465), Row(Movie_ID=187, rating=5.314211845397949), Row(Movie_ID=60943, rating=5.238342761993408), Row(Movie_ID=141718, rating=5.235169887542725), Row(Movie_ID=72171, rating=5.225076675415039), Row(Movie_ID=7071, rating=5.225076675415039)]</td>\n",
       "                  \n",
       "                </tr>\n",
       "                \n",
       "                <tr>\n",
       "                  \n",
       "                  <td>89</td>\n",
       "                  \n",
       "                  <td>[Row(Movie_ID=86320, rating=5.502184867858887), Row(Movie_ID=67695, rating=4.944314002990723), Row(Movie_ID=44851, rating=4.875326156616211), Row(Movie_ID=109241, rating=4.875326156616211), Row(Movie_ID=149350, rating=4.875326156616211), Row(Movie_ID=131610, rating=4.875326156616211), Row(Movie_ID=121781, rating=4.875326156616211), Row(Movie_ID=33090, rating=4.875326156616211), Row(Movie_ID=118270, rating=4.875326156616211), Row(Movie_ID=53280, rating=4.875326156616211)]</td>\n",
       "                  \n",
       "                </tr>\n",
       "                \n",
       "                <tr>\n",
       "                  \n",
       "                  <td>93</td>\n",
       "                  \n",
       "                  <td>[Row(Movie_ID=7842, rating=6.227997303009033), Row(Movie_ID=33649, rating=6.137086868286133), Row(Movie_ID=6818, rating=6.086594581604004), Row(Movie_ID=93988, rating=5.9212212562561035), Row(Movie_ID=84847, rating=5.9212212562561035), Row(Movie_ID=3925, rating=5.900913238525391), Row(Movie_ID=123, rating=5.838132858276367), Row(Movie_ID=42730, rating=5.80054235458374), Row(Movie_ID=72171, rating=5.786128044128418), Row(Movie_ID=7071, rating=5.786128044128418)]</td>\n",
       "                  \n",
       "                </tr>\n",
       "                \n",
       "                <tr>\n",
       "                  \n",
       "                  <td>95</td>\n",
       "                  \n",
       "                  <td>[Row(Movie_ID=7842, rating=5.729615211486816), Row(Movie_ID=4789, rating=5.528409957885742), Row(Movie_ID=6818, rating=5.4682793617248535), Row(Movie_ID=33649, rating=5.452468395233154), Row(Movie_ID=69524, rating=5.344775199890137), Row(Movie_ID=187, rating=5.322842121124268), Row(Movie_ID=1251, rating=5.286068916320801), Row(Movie_ID=5490, rating=5.27247953414917), Row(Movie_ID=132333, rating=5.27247953414917), Row(Movie_ID=26471, rating=5.234772682189941)]</td>\n",
       "                  \n",
       "                </tr>\n",
       "                \n",
       "                <tr>\n",
       "                  \n",
       "                  <td>99</td>\n",
       "                  \n",
       "                  <td>[Row(Movie_ID=7842, rating=6.293856143951416), Row(Movie_ID=112804, rating=5.771883487701416), Row(Movie_ID=2843, rating=5.734428405761719), Row(Movie_ID=80906, rating=5.665341854095459), Row(Movie_ID=60943, rating=5.664470672607422), Row(Movie_ID=5490, rating=5.653469085693359), Row(Movie_ID=132333, rating=5.653469085693359), Row(Movie_ID=446, rating=5.649664878845215), Row(Movie_ID=136469, rating=5.608996391296387), Row(Movie_ID=71462, rating=5.520181179046631)]</td>\n",
       "                  \n",
       "                </tr>\n",
       "                \n",
       "                <tr>\n",
       "                  \n",
       "                  <td>103</td>\n",
       "                  \n",
       "                  <td>[Row(Movie_ID=7842, rating=5.710369110107422), Row(Movie_ID=6818, rating=5.568155288696289), Row(Movie_ID=92494, rating=5.367694854736328), Row(Movie_ID=102217, rating=5.367694854736328), Row(Movie_ID=33779, rating=5.367694854736328), Row(Movie_ID=187, rating=5.284860610961914), Row(Movie_ID=141718, rating=5.264901161193848), Row(Movie_ID=7096, rating=5.22112512588501), Row(Movie_ID=84273, rating=5.193066120147705), Row(Movie_ID=26073, rating=5.193066120147705)]</td>\n",
       "                  \n",
       "                </tr>\n",
       "                \n",
       "                <tr>\n",
       "                  \n",
       "                  <td>113</td>\n",
       "                  \n",
       "                  <td>[Row(Movie_ID=112804, rating=5.7118330001831055), Row(Movie_ID=7842, rating=5.656055927276611), Row(Movie_ID=446, rating=5.467110633850098), Row(Movie_ID=132333, rating=5.265235900878906), Row(Movie_ID=5490, rating=5.265235900878906), Row(Movie_ID=6380, rating=5.247382164001465), Row(Movie_ID=177593, rating=5.211009979248047), Row(Movie_ID=2843, rating=5.164658069610596), Row(Movie_ID=2693, rating=5.161985397338867), Row(Movie_ID=391, rating=5.140649795532227)]</td>\n",
       "                  \n",
       "                </tr>\n",
       "                \n",
       "                <tr>\n",
       "                  \n",
       "                  <td>117</td>\n",
       "                  \n",
       "                  <td>[Row(Movie_ID=6818, rating=5.107770919799805), Row(Movie_ID=3200, rating=4.712316989898682), Row(Movie_ID=33649, rating=4.689521312713623), Row(Movie_ID=123, rating=4.684030532836914), Row(Movie_ID=77846, rating=4.655250549316406), Row(Movie_ID=25906, rating=4.655250549316406), Row(Movie_ID=93008, rating=4.655250549316406), Row(Movie_ID=42730, rating=4.544738292694092), Row(Movie_ID=945, rating=4.521745681762695), Row(Movie_ID=7842, rating=4.521103382110596)]</td>\n",
       "                  \n",
       "                </tr>\n",
       "                \n",
       "                <tr>\n",
       "                  \n",
       "                  <td>130</td>\n",
       "                  \n",
       "                  <td>[Row(Movie_ID=7842, rating=6.331019878387451), Row(Movie_ID=60943, rating=5.697917461395264), Row(Movie_ID=8973, rating=5.672406196594238), Row(Movie_ID=26614, rating=5.638078689575195), Row(Movie_ID=7841, rating=5.6182451248168945), Row(Movie_ID=26133, rating=5.321957588195801), Row(Movie_ID=3272, rating=5.282004356384277), Row(Movie_ID=2171, rating=5.243447303771973), Row(Movie_ID=58655, rating=5.207003593444824), Row(Movie_ID=26073, rating=5.155054092407227)]</td>\n",
       "                  \n",
       "                </tr>\n",
       "                \n",
       "                <tr>\n",
       "                  \n",
       "                  <td>140</td>\n",
       "                  \n",
       "                  <td>[Row(Movie_ID=6818, rating=5.243236064910889), Row(Movie_ID=123, rating=4.881537914276123), Row(Movie_ID=42730, rating=4.863483428955078), Row(Movie_ID=93008, rating=4.856273651123047), Row(Movie_ID=77846, rating=4.856273651123047), Row(Movie_ID=25906, rating=4.856273651123047), Row(Movie_ID=7842, rating=4.854612827301025), Row(Movie_ID=3200, rating=4.847763538360596), Row(Movie_ID=33649, rating=4.8432841300964355), Row(Movie_ID=93988, rating=4.728593826293945)]</td>\n",
       "                  \n",
       "                </tr>\n",
       "                \n",
       "                <tr>\n",
       "                  \n",
       "                  <td>146</td>\n",
       "                  \n",
       "                  <td>[Row(Movie_ID=6818, rating=5.744328022003174), Row(Movie_ID=123, rating=5.1844305992126465), Row(Movie_ID=3925, rating=5.173652648925781), Row(Movie_ID=86320, rating=5.13694429397583), Row(Movie_ID=33649, rating=5.093001842498779), Row(Movie_ID=42730, rating=5.053188800811768), Row(Movie_ID=8477, rating=5.046923637390137), Row(Movie_ID=92643, rating=5.033907890319824), Row(Movie_ID=945, rating=5.027190208435059), Row(Movie_ID=58301, rating=5.004276752471924)]</td>\n",
       "                  \n",
       "                </tr>\n",
       "                \n",
       "                <tr>\n",
       "                  \n",
       "                  <td>149</td>\n",
       "                  \n",
       "                  <td>[Row(Movie_ID=3223, rating=5.260890007019043), Row(Movie_ID=85774, rating=4.971410751342773), Row(Movie_ID=2007, rating=4.884535312652588), Row(Movie_ID=446, rating=4.861475944519043), Row(Movie_ID=2843, rating=4.7409796714782715), Row(Movie_ID=80906, rating=4.703641414642334), Row(Movie_ID=7842, rating=4.700980186462402), Row(Movie_ID=112804, rating=4.687342643737793), Row(Movie_ID=90888, rating=4.687068462371826), Row(Movie_ID=58303, rating=4.661827087402344)]</td>\n",
       "                  \n",
       "                </tr>\n",
       "                \n",
       "                <tr>\n",
       "                  \n",
       "                  <td>157</td>\n",
       "                  \n",
       "                  <td>[Row(Movie_ID=7842, rating=6.068718910217285), Row(Movie_ID=60943, rating=5.461846828460693), Row(Movie_ID=7841, rating=5.244341850280762), Row(Movie_ID=446, rating=5.1282958984375), Row(Movie_ID=112804, rating=5.125004768371582), Row(Movie_ID=2843, rating=5.1144490242004395), Row(Movie_ID=2171, rating=4.927540302276611), Row(Movie_ID=49265, rating=4.85497522354126), Row(Movie_ID=61167, rating=4.85497522354126), Row(Movie_ID=8010, rating=4.85497522354126)]</td>\n",
       "                  \n",
       "                </tr>\n",
       "                \n",
       "                <tr>\n",
       "                  \n",
       "                  <td>158</td>\n",
       "                  \n",
       "                  <td>[Row(Movie_ID=7842, rating=6.476655006408691), Row(Movie_ID=60943, rating=5.828989505767822), Row(Movie_ID=7841, rating=5.682592391967773), Row(Movie_ID=8973, rating=5.584054470062256), Row(Movie_ID=26133, rating=5.353494167327881), Row(Movie_ID=84273, rating=5.340239524841309), Row(Movie_ID=72171, rating=5.340239524841309), Row(Movie_ID=26073, rating=5.340239524841309), Row(Movie_ID=7071, rating=5.340239524841309), Row(Movie_ID=179135, rating=5.340239524841309)]</td>\n",
       "                  \n",
       "                </tr>\n",
       "                \n",
       "                <tr>\n",
       "                  \n",
       "                  <td>160</td>\n",
       "                  \n",
       "                  <td>[Row(Movie_ID=89904, rating=5.582557201385498), Row(Movie_ID=56715, rating=5.51637077331543), Row(Movie_ID=3567, rating=5.4934258460998535), Row(Movie_ID=158966, rating=5.365611553192139), Row(Movie_ID=1916, rating=5.344160079956055), Row(Movie_ID=26810, rating=5.284384727478027), Row(Movie_ID=7116, rating=5.270941734313965), Row(Movie_ID=6818, rating=5.245023727416992), Row(Movie_ID=7564, rating=5.234262943267822), Row(Movie_ID=7982, rating=5.204745769500732)]</td>\n",
       "                  \n",
       "                </tr>\n",
       "                \n",
       "                <tr>\n",
       "                  \n",
       "                  <td>165</td>\n",
       "                  \n",
       "                  <td>[Row(Movie_ID=7842, rating=5.127952575683594), Row(Movie_ID=33649, rating=4.904382228851318), Row(Movie_ID=4789, rating=4.699037551879883), Row(Movie_ID=93988, rating=4.685818672180176), Row(Movie_ID=84847, rating=4.685818672180176), Row(Movie_ID=60943, rating=4.615157127380371), Row(Movie_ID=72171, rating=4.610107421875), Row(Movie_ID=179135, rating=4.610107421875), Row(Movie_ID=26073, rating=4.610107421875), Row(Movie_ID=7071, rating=4.610107421875)]</td>\n",
       "                  \n",
       "                </tr>\n",
       "                \n",
       "                <tr>\n",
       "                  \n",
       "                  <td>173</td>\n",
       "                  \n",
       "                  <td>[Row(Movie_ID=158872, rating=5.319052696228027), Row(Movie_ID=62293, rating=5.202779293060303), Row(Movie_ID=3200, rating=5.068363666534424), Row(Movie_ID=6818, rating=4.95220947265625), Row(Movie_ID=77846, rating=4.946626663208008), Row(Movie_ID=93008, rating=4.946626663208008), Row(Movie_ID=25906, rating=4.946626663208008), Row(Movie_ID=80693, rating=4.915347576141357), Row(Movie_ID=3451, rating=4.89457893371582), Row(Movie_ID=89904, rating=4.858048915863037)]</td>\n",
       "                  \n",
       "                </tr>\n",
       "                \n",
       "                <tr>\n",
       "                  \n",
       "                  <td>183</td>\n",
       "                  \n",
       "                  <td>[Row(Movie_ID=6818, rating=6.089558124542236), Row(Movie_ID=86320, rating=5.795642375946045), Row(Movie_ID=117192, rating=5.785046577453613), Row(Movie_ID=8477, rating=5.722053050994873), Row(Movie_ID=123, rating=5.593232154846191), Row(Movie_ID=3925, rating=5.530282020568848), Row(Movie_ID=89118, rating=5.488668441772461), Row(Movie_ID=25771, rating=5.424761772155762), Row(Movie_ID=106642, rating=5.41621732711792), Row(Movie_ID=67695, rating=5.390084266662598)]</td>\n",
       "                  \n",
       "                </tr>\n",
       "                \n",
       "                <tr>\n",
       "                  \n",
       "                  <td>191</td>\n",
       "                  \n",
       "                  <td>[Row(Movie_ID=89904, rating=6.374210357666016), Row(Movie_ID=56715, rating=6.130372524261475), Row(Movie_ID=1916, rating=6.109944820404053), Row(Movie_ID=25825, rating=5.9596686363220215), Row(Movie_ID=158966, rating=5.9320831298828125), Row(Movie_ID=6818, rating=5.909665584564209), Row(Movie_ID=32582, rating=5.858931541442871), Row(Movie_ID=180095, rating=5.807090759277344), Row(Movie_ID=322, rating=5.788023948669434), Row(Movie_ID=3567, rating=5.783730983734131)]</td>\n",
       "                  \n",
       "                </tr>\n",
       "                \n",
       "                <tr>\n",
       "                  \n",
       "                  <td>197</td>\n",
       "                  \n",
       "                  <td>[Row(Movie_ID=6818, rating=5.211501121520996), Row(Movie_ID=3925, rating=5.202983379364014), Row(Movie_ID=170705, rating=5.1888508796691895), Row(Movie_ID=1211, rating=5.178333759307861), Row(Movie_ID=8973, rating=5.088531970977783), Row(Movie_ID=3153, rating=5.043783187866211), Row(Movie_ID=187, rating=4.990889549255371), Row(Movie_ID=4380, rating=4.972624778747559), Row(Movie_ID=4821, rating=4.934073448181152), Row(Movie_ID=42730, rating=4.897853374481201)]</td>\n",
       "                  \n",
       "                </tr>\n",
       "                \n",
       "                <tr>\n",
       "                  \n",
       "                  <td>205</td>\n",
       "                  \n",
       "                  <td>[Row(Movie_ID=7842, rating=5.498096942901611), Row(Movie_ID=60943, rating=4.948287010192871), Row(Movie_ID=6818, rating=4.903830051422119), Row(Movie_ID=86237, rating=4.861266136169434), Row(Movie_ID=179135, rating=4.861266136169434), Row(Movie_ID=84273, rating=4.861266136169434), Row(Movie_ID=7071, rating=4.861266136169434), Row(Movie_ID=74226, rating=4.861266136169434), Row(Movie_ID=26073, rating=4.861266136169434), Row(Movie_ID=72171, rating=4.861266136169434)]</td>\n",
       "                  \n",
       "                </tr>\n",
       "                \n",
       "                <tr>\n",
       "                  \n",
       "                  <td>208</td>\n",
       "                  \n",
       "                  <td>[Row(Movie_ID=7842, rating=5.1164445877075195), Row(Movie_ID=2171, rating=4.957372665405273), Row(Movie_ID=3200, rating=4.89193868637085), Row(Movie_ID=6818, rating=4.87602424621582), Row(Movie_ID=6201, rating=4.830820560455322), Row(Movie_ID=8235, rating=4.827484607696533), Row(Movie_ID=93008, rating=4.80387544631958), Row(Movie_ID=25906, rating=4.80387544631958), Row(Movie_ID=77846, rating=4.80387544631958), Row(Movie_ID=7076, rating=4.720027923583984)]</td>\n",
       "                  \n",
       "                </tr>\n",
       "                \n",
       "                <tr>\n",
       "                  \n",
       "                  <td>214</td>\n",
       "                  \n",
       "                  <td>[Row(Movie_ID=7842, rating=4.439608097076416), Row(Movie_ID=112804, rating=4.11331844329834), Row(Movie_ID=60943, rating=3.995647430419922), Row(Movie_ID=33649, rating=3.958873748779297), Row(Movie_ID=446, rating=3.9481608867645264), Row(Movie_ID=5490, rating=3.899245262145996), Row(Movie_ID=132333, rating=3.899245262145996), Row(Movie_ID=93008, rating=3.8930561542510986), Row(Movie_ID=77846, rating=3.8930561542510986), Row(Movie_ID=25906, rating=3.8930561542510986)]</td>\n",
       "                  \n",
       "                </tr>\n",
       "                \n",
       "                <tr>\n",
       "                  \n",
       "                  <td>232</td>\n",
       "                  \n",
       "                  <td>[Row(Movie_ID=7842, rating=5.3936309814453125), Row(Movie_ID=60943, rating=4.854267597198486), Row(Movie_ID=86237, rating=4.741960525512695), Row(Movie_ID=84273, rating=4.741960525512695), Row(Movie_ID=179135, rating=4.741960525512695), Row(Movie_ID=7071, rating=4.741960525512695), Row(Movie_ID=74226, rating=4.741960525512695), Row(Movie_ID=26073, rating=4.741960525512695), Row(Movie_ID=72171, rating=4.741960525512695), Row(Movie_ID=4708, rating=4.741960525512695)]</td>\n",
       "                  \n",
       "                </tr>\n",
       "                \n",
       "                <tr>\n",
       "                  \n",
       "                  <td>238</td>\n",
       "                  \n",
       "                  <td>[Row(Movie_ID=8973, rating=5.713649749755859), Row(Movie_ID=1211, rating=5.491086006164551), Row(Movie_ID=7842, rating=5.370790958404541), Row(Movie_ID=27611, rating=5.334848403930664), Row(Movie_ID=170705, rating=5.2713727951049805), Row(Movie_ID=417, rating=5.2361249923706055), Row(Movie_ID=4821, rating=5.229681968688965), Row(Movie_ID=187, rating=5.053345203399658), Row(Movie_ID=5666, rating=5.003543376922607), Row(Movie_ID=1755, rating=4.990750312805176)]</td>\n",
       "                  \n",
       "                </tr>\n",
       "                \n",
       "                <tr>\n",
       "                  \n",
       "                  <td>240</td>\n",
       "                  \n",
       "                  <td>[Row(Movie_ID=7842, rating=6.401650428771973), Row(Movie_ID=26614, rating=6.0853271484375), Row(Movie_ID=3283, rating=5.97438383102417), Row(Movie_ID=86347, rating=5.869472980499268), Row(Movie_ID=60943, rating=5.7614850997924805), Row(Movie_ID=112804, rating=5.698182106018066), Row(Movie_ID=446, rating=5.585011005401611), Row(Movie_ID=3972, rating=5.558103561401367), Row(Movie_ID=3272, rating=5.519423484802246), Row(Movie_ID=131724, rating=5.490855693817139)]</td>\n",
       "                  \n",
       "                </tr>\n",
       "                \n",
       "                <tr>\n",
       "                  \n",
       "                  <td>242</td>\n",
       "                  \n",
       "                  <td>[Row(Movie_ID=7842, rating=5.650012016296387), Row(Movie_ID=60943, rating=5.085010528564453), Row(Movie_ID=179135, rating=5.047629356384277), Row(Movie_ID=86237, rating=5.047629356384277), Row(Movie_ID=84273, rating=5.047629356384277), Row(Movie_ID=26073, rating=5.047629356384277), Row(Movie_ID=74226, rating=5.047629356384277), Row(Movie_ID=72171, rating=5.047629356384277), Row(Movie_ID=7071, rating=5.047629356384277), Row(Movie_ID=4708, rating=5.047629356384277)]</td>\n",
       "                  \n",
       "                </tr>\n",
       "                \n",
       "                <tr>\n",
       "                  \n",
       "                  <td>244</td>\n",
       "                  \n",
       "                  <td>[Row(Movie_ID=4789, rating=6.422737121582031), Row(Movie_ID=117192, rating=5.6292524337768555), Row(Movie_ID=5466, rating=5.573726654052734), Row(Movie_ID=68945, rating=5.568192481994629), Row(Movie_ID=85774, rating=5.550786018371582), Row(Movie_ID=7025, rating=5.42645788192749), Row(Movie_ID=33649, rating=5.388073921203613), Row(Movie_ID=106642, rating=5.296493053436279), Row(Movie_ID=3503, rating=5.2948384284973145), Row(Movie_ID=3235, rating=5.282455921173096)]</td>\n",
       "                  \n",
       "                </tr>\n",
       "                \n",
       "                <tr>\n",
       "                  \n",
       "                  <td>251</td>\n",
       "                  \n",
       "                  <td>[Row(Movie_ID=6818, rating=6.169093132019043), Row(Movie_ID=7842, rating=5.862552642822266), Row(Movie_ID=33649, rating=5.689212322235107), Row(Movie_ID=187, rating=5.679601669311523), Row(Movie_ID=132333, rating=5.63492488861084), Row(Movie_ID=5490, rating=5.63492488861084), Row(Movie_ID=7096, rating=5.627032279968262), Row(Movie_ID=33779, rating=5.554170608520508), Row(Movie_ID=92494, rating=5.554170608520508), Row(Movie_ID=102217, rating=5.554170608520508)]</td>\n",
       "                  \n",
       "                </tr>\n",
       "                \n",
       "                <tr>\n",
       "                  \n",
       "                  <td>255</td>\n",
       "                  \n",
       "                  <td>[Row(Movie_ID=3223, rating=5.169826507568359), Row(Movie_ID=85774, rating=5.0904083251953125), Row(Movie_ID=4789, rating=4.979075908660889), Row(Movie_ID=2007, rating=4.830873966217041), Row(Movie_ID=90888, rating=4.66333532333374), Row(Movie_ID=130634, rating=4.636438369750977), Row(Movie_ID=1194, rating=4.531132221221924), Row(Movie_ID=4450, rating=4.4850358963012695), Row(Movie_ID=5466, rating=4.360682487487793), Row(Movie_ID=177765, rating=4.325709819793701)]</td>\n",
       "                  \n",
       "                </tr>\n",
       "                \n",
       "                <tr>\n",
       "                  \n",
       "                  <td>256</td>\n",
       "                  \n",
       "                  <td>[Row(Movie_ID=7842, rating=5.667427062988281), Row(Movie_ID=2171, rating=5.410041809082031), Row(Movie_ID=94070, rating=5.403249263763428), Row(Movie_ID=6466, rating=5.40010929107666), Row(Movie_ID=42730, rating=5.374429702758789), Row(Movie_ID=147382, rating=5.361783504486084), Row(Movie_ID=93008, rating=5.33848762512207), Row(Movie_ID=25906, rating=5.33848762512207), Row(Movie_ID=77846, rating=5.33848762512207), Row(Movie_ID=2899, rating=5.294005393981934)]</td>\n",
       "                  \n",
       "                </tr>\n",
       "                \n",
       "                <tr>\n",
       "                  \n",
       "                  <td>266</td>\n",
       "                  \n",
       "                  <td>[Row(Movie_ID=3503, rating=5.647760391235352), Row(Movie_ID=4789, rating=5.28402042388916), Row(Movie_ID=6818, rating=5.216903209686279), Row(Movie_ID=4406, rating=5.207509517669678), Row(Movie_ID=170355, rating=5.199854850769043), Row(Movie_ID=4146, rating=5.194937229156494), Row(Movie_ID=1232, rating=5.192043304443359), Row(Movie_ID=1178, rating=5.181341171264648), Row(Movie_ID=3473, rating=5.173059463500977), Row(Movie_ID=27611, rating=5.169480323791504)]</td>\n",
       "                  \n",
       "                </tr>\n",
       "                \n",
       "                <tr>\n",
       "                  \n",
       "                  <td>272</td>\n",
       "                  \n",
       "                  <td>[Row(Movie_ID=7842, rating=5.1770853996276855), Row(Movie_ID=86347, rating=4.675940990447998), Row(Movie_ID=60943, rating=4.659376621246338), Row(Movie_ID=26614, rating=4.496337413787842), Row(Movie_ID=2843, rating=4.482396602630615), Row(Movie_ID=3972, rating=4.402003288269043), Row(Movie_ID=80906, rating=4.365645885467529), Row(Movie_ID=4789, rating=4.353614807128906), Row(Movie_ID=136469, rating=4.321619987487793), Row(Movie_ID=446, rating=4.319257736206055)]</td>\n",
       "                  \n",
       "                </tr>\n",
       "                \n",
       "                <tr>\n",
       "                  \n",
       "                  <td>277</td>\n",
       "                  \n",
       "                  <td>[Row(Movie_ID=7842, rating=6.0649094581604), Row(Movie_ID=33649, rating=5.487816333770752), Row(Movie_ID=187, rating=5.4836344718933105), Row(Movie_ID=60943, rating=5.458418846130371), Row(Movie_ID=74226, rating=5.438302040100098), Row(Movie_ID=7071, rating=5.438302040100098), Row(Movie_ID=26073, rating=5.438302040100098), Row(Movie_ID=179135, rating=5.438302040100098), Row(Movie_ID=84273, rating=5.438302040100098), Row(Movie_ID=72171, rating=5.438302040100098)]</td>\n",
       "                  \n",
       "                </tr>\n",
       "                \n",
       "                <tr>\n",
       "                  \n",
       "                  <td>279</td>\n",
       "                  \n",
       "                  <td>[Row(Movie_ID=4789, rating=5.041936874389648), Row(Movie_ID=6818, rating=4.764430999755859), Row(Movie_ID=3503, rating=4.739201545715332), Row(Movie_ID=33649, rating=4.599050045013428), Row(Movie_ID=187, rating=4.598233222961426), Row(Movie_ID=7025, rating=4.556017875671387), Row(Movie_ID=68945, rating=4.552798271179199), Row(Movie_ID=80083, rating=4.4735212326049805), Row(Movie_ID=95771, rating=4.4735212326049805), Row(Movie_ID=171495, rating=4.4735212326049805)]</td>\n",
       "                  \n",
       "                </tr>\n",
       "                \n",
       "                <tr>\n",
       "                  \n",
       "                  <td>285</td>\n",
       "                  \n",
       "                  <td>[Row(Movie_ID=5490, rating=5.319106101989746), Row(Movie_ID=132333, rating=5.319106101989746), Row(Movie_ID=6380, rating=5.286696910858154), Row(Movie_ID=5915, rating=5.152110576629639), Row(Movie_ID=32582, rating=5.068008899688721), Row(Movie_ID=213, rating=5.026504993438721), Row(Movie_ID=158872, rating=5.016921043395996), Row(Movie_ID=53, rating=5.00444221496582), Row(Movie_ID=177593, rating=4.993362903594971), Row(Movie_ID=6192, rating=4.992795944213867)]</td>\n",
       "                  \n",
       "                </tr>\n",
       "                \n",
       "                <tr>\n",
       "                  \n",
       "                  <td>287</td>\n",
       "                  \n",
       "                  <td>[Row(Movie_ID=7982, rating=5.195476055145264), Row(Movie_ID=4794, rating=5.05053186416626), Row(Movie_ID=7564, rating=4.950809955596924), Row(Movie_ID=7116, rating=4.941676616668701), Row(Movie_ID=1916, rating=4.917206287384033), Row(Movie_ID=4914, rating=4.8912177085876465), Row(Movie_ID=165549, rating=4.855832099914551), Row(Movie_ID=56715, rating=4.842920780181885), Row(Movie_ID=158966, rating=4.802199363708496), Row(Movie_ID=2239, rating=4.747833251953125)]</td>\n",
       "                  \n",
       "                </tr>\n",
       "                \n",
       "                <tr>\n",
       "                  \n",
       "                  <td>292</td>\n",
       "                  \n",
       "                  <td>[Row(Movie_ID=33649, rating=4.820633888244629), Row(Movie_ID=3925, rating=4.810251235961914), Row(Movie_ID=7842, rating=4.746983051300049), Row(Movie_ID=117192, rating=4.706704139709473), Row(Movie_ID=123, rating=4.6653337478637695), Row(Movie_ID=5466, rating=4.659680366516113), Row(Movie_ID=47997, rating=4.61997652053833), Row(Movie_ID=106642, rating=4.573540687561035), Row(Movie_ID=69394, rating=4.5712738037109375), Row(Movie_ID=41724, rating=4.5712738037109375)]</td>\n",
       "                  \n",
       "                </tr>\n",
       "                \n",
       "                <tr>\n",
       "                  \n",
       "                  <td>301</td>\n",
       "                  \n",
       "                  <td>[Row(Movie_ID=6380, rating=5.011521339416504), Row(Movie_ID=32582, rating=4.9731855392456055), Row(Movie_ID=213, rating=4.927021026611328), Row(Movie_ID=132333, rating=4.873721122741699), Row(Movie_ID=5490, rating=4.873721122741699), Row(Movie_ID=177593, rating=4.863182544708252), Row(Movie_ID=5747, rating=4.813018321990967), Row(Movie_ID=7767, rating=4.767470359802246), Row(Movie_ID=1411, rating=4.766513347625732), Row(Movie_ID=6611, rating=4.761477470397949)]</td>\n",
       "                  \n",
       "                </tr>\n",
       "                \n",
       "                <tr>\n",
       "                  \n",
       "                  <td>302</td>\n",
       "                  \n",
       "                  <td>[Row(Movie_ID=6818, rating=5.8399434089660645), Row(Movie_ID=5490, rating=5.729890823364258), Row(Movie_ID=132333, rating=5.729890823364258), Row(Movie_ID=7842, rating=5.722823143005371), Row(Movie_ID=3200, rating=5.607971668243408), Row(Movie_ID=7096, rating=5.532197952270508), Row(Movie_ID=5915, rating=5.492852687835693), Row(Movie_ID=6201, rating=5.47566556930542), Row(Movie_ID=6192, rating=5.439065933227539), Row(Movie_ID=177593, rating=5.414190292358398)]</td>\n",
       "                  \n",
       "                </tr>\n",
       "                \n",
       "                <tr>\n",
       "                  \n",
       "                  <td>303</td>\n",
       "                  \n",
       "                  <td>[Row(Movie_ID=4789, rating=6.320796489715576), Row(Movie_ID=5181, rating=6.089180946350098), Row(Movie_ID=136850, rating=6.070672988891602), Row(Movie_ID=2851, rating=5.75497579574585), Row(Movie_ID=70946, rating=5.666153907775879), Row(Movie_ID=117192, rating=5.655320644378662), Row(Movie_ID=5919, rating=5.618236541748047), Row(Movie_ID=3525, rating=5.6141886711120605), Row(Movie_ID=3235, rating=5.595479965209961), Row(Movie_ID=7991, rating=5.478662967681885)]</td>\n",
       "                  \n",
       "                </tr>\n",
       "                \n",
       "                <tr>\n",
       "                  \n",
       "                  <td>309</td>\n",
       "                  \n",
       "                  <td>[Row(Movie_ID=132333, rating=4.93646240234375), Row(Movie_ID=5490, rating=4.93646240234375), Row(Movie_ID=4789, rating=4.840428829193115), Row(Movie_ID=5915, rating=4.807602882385254), Row(Movie_ID=6818, rating=4.714378833770752), Row(Movie_ID=8542, rating=4.70035457611084), Row(Movie_ID=33649, rating=4.670541763305664), Row(Movie_ID=26258, rating=4.6672234535217285), Row(Movie_ID=174053, rating=4.653700351715088), Row(Movie_ID=3341, rating=4.5894622802734375)]</td>\n",
       "                  \n",
       "                </tr>\n",
       "                \n",
       "                <tr>\n",
       "                  \n",
       "                  <td>319</td>\n",
       "                  \n",
       "                  <td>[Row(Movie_ID=4789, rating=6.0868425369262695), Row(Movie_ID=6818, rating=5.845666885375977), Row(Movie_ID=33649, rating=5.655248641967773), Row(Movie_ID=3503, rating=5.569975852966309), Row(Movie_ID=68945, rating=5.556468963623047), Row(Movie_ID=7025, rating=5.541163444519043), Row(Movie_ID=187, rating=5.442049980163574), Row(Movie_ID=26258, rating=5.428315162658691), Row(Movie_ID=26326, rating=5.416875839233398), Row(Movie_ID=5490, rating=5.411417484283447)]</td>\n",
       "                  \n",
       "                </tr>\n",
       "                \n",
       "                <tr>\n",
       "                  \n",
       "                  <td>329</td>\n",
       "                  \n",
       "                  <td>[Row(Movie_ID=136850, rating=4.832201957702637), Row(Movie_ID=4789, rating=4.756894111633301), Row(Movie_ID=5181, rating=4.517433166503906), Row(Movie_ID=70946, rating=4.438198089599609), Row(Movie_ID=3525, rating=4.415362358093262), Row(Movie_ID=2851, rating=4.364788055419922), Row(Movie_ID=5919, rating=4.298238277435303), Row(Movie_ID=5746, rating=4.290224075317383), Row(Movie_ID=6835, rating=4.290224075317383), Row(Movie_ID=3235, rating=4.2708740234375)]</td>\n",
       "                  \n",
       "                </tr>\n",
       "                \n",
       "                <tr>\n",
       "                  \n",
       "                  <td>336</td>\n",
       "                  \n",
       "                  <td>[Row(Movie_ID=7842, rating=6.0033416748046875), Row(Movie_ID=33649, rating=5.43506383895874), Row(Movie_ID=60943, rating=5.403007507324219), Row(Movie_ID=6818, rating=5.360221862792969), Row(Movie_ID=69524, rating=5.352577209472656), Row(Movie_ID=74226, rating=5.346723556518555), Row(Movie_ID=7071, rating=5.346723556518555), Row(Movie_ID=179135, rating=5.346723556518555), Row(Movie_ID=72171, rating=5.346723556518555), Row(Movie_ID=26073, rating=5.346723556518555)]</td>\n",
       "                  \n",
       "                </tr>\n",
       "                \n",
       "                <tr>\n",
       "                  \n",
       "                  <td>340</td>\n",
       "                  \n",
       "                  <td>[Row(Movie_ID=7842, rating=6.048654079437256), Row(Movie_ID=6818, rating=5.9727630615234375), Row(Movie_ID=33649, rating=5.836508750915527), Row(Movie_ID=3200, rating=5.745927333831787), Row(Movie_ID=77846, rating=5.737459182739258), Row(Movie_ID=93008, rating=5.737459182739258), Row(Movie_ID=25906, rating=5.737459182739258), Row(Movie_ID=132333, rating=5.621969223022461), Row(Movie_ID=5490, rating=5.621969223022461), Row(Movie_ID=123, rating=5.616766929626465)]</td>\n",
       "                  \n",
       "                </tr>\n",
       "                \n",
       "                <tr>\n",
       "                  \n",
       "                  <td>349</td>\n",
       "                  \n",
       "                  <td>[Row(Movie_ID=6818, rating=5.213773727416992), Row(Movie_ID=7842, rating=5.160500526428223), Row(Movie_ID=3200, rating=4.885335445404053), Row(Movie_ID=25906, rating=4.810292720794678), Row(Movie_ID=77846, rating=4.810292720794678), Row(Movie_ID=93008, rating=4.810292720794678), Row(Movie_ID=42730, rating=4.791592597961426), Row(Movie_ID=33649, rating=4.788504123687744), Row(Movie_ID=84273, rating=4.786591529846191), Row(Movie_ID=26073, rating=4.786591529846191)]</td>\n",
       "                  \n",
       "                </tr>\n",
       "                \n",
       "                <tr>\n",
       "                  \n",
       "                  <td>355</td>\n",
       "                  \n",
       "                  <td>[Row(Movie_ID=7842, rating=6.323948860168457), Row(Movie_ID=60943, rating=5.691554069519043), Row(Movie_ID=86237, rating=5.445052623748779), Row(Movie_ID=84273, rating=5.445052623748779), Row(Movie_ID=179135, rating=5.445052623748779), Row(Movie_ID=7071, rating=5.445052623748779), Row(Movie_ID=74226, rating=5.445052623748779), Row(Movie_ID=26073, rating=5.445052623748779), Row(Movie_ID=72171, rating=5.445052623748779), Row(Movie_ID=26928, rating=5.445052623748779)]</td>\n",
       "                  \n",
       "                </tr>\n",
       "                \n",
       "                <tr>\n",
       "                  \n",
       "                  <td>363</td>\n",
       "                  \n",
       "                  <td>[Row(Movie_ID=89904, rating=5.2210798263549805), Row(Movie_ID=6818, rating=5.206984043121338), Row(Movie_ID=102217, rating=4.87342643737793), Row(Movie_ID=92494, rating=4.87342643737793), Row(Movie_ID=33779, rating=4.87342643737793), Row(Movie_ID=56715, rating=4.863887310028076), Row(Movie_ID=6201, rating=4.859075546264648), Row(Movie_ID=7096, rating=4.844305515289307), Row(Movie_ID=3567, rating=4.827560901641846), Row(Movie_ID=104339, rating=4.799490928649902)]</td>\n",
       "                  \n",
       "                </tr>\n",
       "                \n",
       "                <tr>\n",
       "                  \n",
       "                  <td>376</td>\n",
       "                  \n",
       "                  <td>[Row(Movie_ID=6818, rating=5.76890754699707), Row(Movie_ID=7842, rating=5.388108253479004), Row(Movie_ID=33649, rating=5.375188827514648), Row(Movie_ID=123, rating=5.36832332611084), Row(Movie_ID=3200, rating=5.364393711090088), Row(Movie_ID=93008, rating=5.361217021942139), Row(Movie_ID=77846, rating=5.361217021942139), Row(Movie_ID=25906, rating=5.361217021942139), Row(Movie_ID=42730, rating=5.321502685546875), Row(Movie_ID=93988, rating=5.217708587646484)]</td>\n",
       "                  \n",
       "                </tr>\n",
       "                \n",
       "                <tr>\n",
       "                  \n",
       "                  <td>377</td>\n",
       "                  \n",
       "                  <td>[Row(Movie_ID=3503, rating=5.647475719451904), Row(Movie_ID=4789, rating=5.63792610168457), Row(Movie_ID=7842, rating=5.631093502044678), Row(Movie_ID=187, rating=5.4841742515563965), Row(Movie_ID=1251, rating=5.433040618896484), Row(Movie_ID=6818, rating=5.4030375480651855), Row(Movie_ID=3473, rating=5.347348690032959), Row(Movie_ID=4406, rating=5.334338188171387), Row(Movie_ID=69524, rating=5.329485893249512), Row(Movie_ID=6460, rating=5.290791034698486)]</td>\n",
       "                  \n",
       "                </tr>\n",
       "                \n",
       "                <tr>\n",
       "                  \n",
       "                  <td>385</td>\n",
       "                  \n",
       "                  <td>[Row(Movie_ID=6818, rating=5.195948600769043), Row(Movie_ID=187, rating=4.785531997680664), Row(Movie_ID=7842, rating=4.7289323806762695), Row(Movie_ID=33649, rating=4.665224075317383), Row(Movie_ID=945, rating=4.631544589996338), Row(Movie_ID=7096, rating=4.596878528594971), Row(Movie_ID=33779, rating=4.56606388092041), Row(Movie_ID=92494, rating=4.56606388092041), Row(Movie_ID=102217, rating=4.56606388092041), Row(Movie_ID=84847, rating=4.552628040313721)]</td>\n",
       "                  \n",
       "                </tr>\n",
       "                \n",
       "                <tr>\n",
       "                  \n",
       "                  <td>386</td>\n",
       "                  \n",
       "                  <td>[Row(Movie_ID=117192, rating=3.9585070610046387), Row(Movie_ID=4789, rating=3.913489818572998), Row(Movie_ID=6818, rating=3.906632423400879), Row(Movie_ID=3925, rating=3.903966188430786), Row(Movie_ID=33649, rating=3.8791236877441406), Row(Movie_ID=106642, rating=3.792386293411255), Row(Movie_ID=123, rating=3.7436556816101074), Row(Movie_ID=93988, rating=3.69982647895813), Row(Movie_ID=84847, rating=3.69982647895813), Row(Movie_ID=68945, rating=3.697117328643799)]</td>\n",
       "                  \n",
       "                </tr>\n",
       "                \n",
       "                <tr>\n",
       "                  \n",
       "                  <td>388</td>\n",
       "                  \n",
       "                  <td>[Row(Movie_ID=3283, rating=6.390538692474365), Row(Movie_ID=26614, rating=6.322620391845703), Row(Movie_ID=94070, rating=6.285179615020752), Row(Movie_ID=2171, rating=6.254335403442383), Row(Movie_ID=998, rating=6.17037296295166), Row(Movie_ID=7842, rating=6.169575214385986), Row(Movie_ID=2899, rating=6.023211479187012), Row(Movie_ID=6466, rating=6.019760608673096), Row(Movie_ID=4857, rating=6.006850242614746), Row(Movie_ID=4476, rating=5.984505653381348)]</td>\n",
       "                  \n",
       "                </tr>\n",
       "                \n",
       "                <tr>\n",
       "                  \n",
       "                  <td>395</td>\n",
       "                  \n",
       "                  <td>[Row(Movie_ID=3925, rating=4.649399757385254), Row(Movie_ID=3404, rating=4.571571350097656), Row(Movie_ID=7018, rating=4.500899791717529), Row(Movie_ID=69394, rating=4.318928241729736), Row(Movie_ID=41724, rating=4.318928241729736), Row(Movie_ID=69069, rating=4.300543785095215), Row(Movie_ID=86320, rating=4.267619609832764), Row(Movie_ID=42730, rating=4.25567626953125), Row(Movie_ID=123, rating=4.254940509796143), Row(Movie_ID=78637, rating=4.247098445892334)]</td>\n",
       "                  \n",
       "                </tr>\n",
       "                \n",
       "                <tr>\n",
       "                  \n",
       "                  <td>401</td>\n",
       "                  \n",
       "                  <td>[Row(Movie_ID=6818, rating=4.770323753356934), Row(Movie_ID=3200, rating=4.743863582611084), Row(Movie_ID=7842, rating=4.724218368530273), Row(Movie_ID=93008, rating=4.685550689697266), Row(Movie_ID=25906, rating=4.685550689697266), Row(Movie_ID=77846, rating=4.685550689697266), Row(Movie_ID=6201, rating=4.50723123550415), Row(Movie_ID=123, rating=4.476121425628662), Row(Movie_ID=33649, rating=4.4670186042785645), Row(Movie_ID=42730, rating=4.4566545486450195)]</td>\n",
       "                  \n",
       "                </tr>\n",
       "                \n",
       "                <tr>\n",
       "                  \n",
       "                  <td>408</td>\n",
       "                  \n",
       "                  <td>[Row(Movie_ID=7842, rating=6.313150882720947), Row(Movie_ID=60943, rating=5.681835651397705), Row(Movie_ID=112804, rating=5.58980655670166), Row(Movie_ID=33649, rating=5.460156440734863), Row(Movie_ID=25906, rating=5.399536609649658), Row(Movie_ID=77846, rating=5.399536609649658), Row(Movie_ID=93008, rating=5.399536609649658), Row(Movie_ID=179135, rating=5.3882365226745605), Row(Movie_ID=84273, rating=5.3882365226745605), Row(Movie_ID=26073, rating=5.3882365226745605)]</td>\n",
       "                  \n",
       "                </tr>\n",
       "                \n",
       "                <tr>\n",
       "                  \n",
       "                  <td>409</td>\n",
       "                  \n",
       "                  <td>[Row(Movie_ID=132333, rating=5.28883171081543), Row(Movie_ID=5490, rating=5.28883171081543), Row(Movie_ID=174053, rating=5.185179233551025), Row(Movie_ID=4789, rating=5.1694183349609375), Row(Movie_ID=5915, rating=5.143343925476074), Row(Movie_ID=6380, rating=5.0716328620910645), Row(Movie_ID=3473, rating=5.043130874633789), Row(Movie_ID=27156, rating=5.020954608917236), Row(Movie_ID=3030, rating=5.011518955230713), Row(Movie_ID=3503, rating=5.0060133934021)]</td>\n",
       "                  \n",
       "                </tr>\n",
       "                \n",
       "                <tr>\n",
       "                  \n",
       "                  <td>410</td>\n",
       "                  \n",
       "                  <td>[Row(Movie_ID=6818, rating=6.160495281219482), Row(Movie_ID=8477, rating=5.780385494232178), Row(Movie_ID=89904, rating=5.496894836425781), Row(Movie_ID=25771, rating=5.4189677238464355), Row(Movie_ID=71899, rating=5.410672664642334), Row(Movie_ID=58301, rating=5.359353065490723), Row(Movie_ID=26326, rating=5.276354789733887), Row(Movie_ID=3200, rating=5.257460594177246), Row(Movie_ID=26258, rating=5.253625869750977), Row(Movie_ID=112421, rating=5.228716850280762)]</td>\n",
       "                  \n",
       "                </tr>\n",
       "                \n",
       "                <tr>\n",
       "                  \n",
       "                  <td>412</td>\n",
       "                  \n",
       "                  <td>[Row(Movie_ID=6818, rating=6.046940803527832), Row(Movie_ID=89904, rating=5.9927897453308105), Row(Movie_ID=8477, rating=5.5620903968811035), Row(Movie_ID=3200, rating=5.452155113220215), Row(Movie_ID=62293, rating=5.3793182373046875), Row(Movie_ID=104339, rating=5.373955249786377), Row(Movie_ID=25825, rating=5.352133750915527), Row(Movie_ID=58301, rating=5.322590351104736), Row(Movie_ID=71899, rating=5.301151275634766), Row(Movie_ID=720, rating=5.29171895980835)]</td>\n",
       "                  \n",
       "                </tr>\n",
       "                \n",
       "                <tr>\n",
       "                  \n",
       "                  <td>420</td>\n",
       "                  \n",
       "                  <td>[Row(Movie_ID=6818, rating=5.334608554840088), Row(Movie_ID=7842, rating=5.16431999206543), Row(Movie_ID=33649, rating=4.961883068084717), Row(Movie_ID=187, rating=4.903951644897461), Row(Movie_ID=7096, rating=4.832536697387695), Row(Movie_ID=3200, rating=4.8261566162109375), Row(Movie_ID=7071, rating=4.822461128234863), Row(Movie_ID=72171, rating=4.822461128234863), Row(Movie_ID=26073, rating=4.822461128234863), Row(Movie_ID=179135, rating=4.822461128234863)]</td>\n",
       "                  \n",
       "                </tr>\n",
       "                \n",
       "                <tr>\n",
       "                  \n",
       "                  <td>422</td>\n",
       "                  \n",
       "                  <td>[Row(Movie_ID=6818, rating=5.279828071594238), Row(Movie_ID=4789, rating=5.064764976501465), Row(Movie_ID=26326, rating=4.976813316345215), Row(Movie_ID=7025, rating=4.95943546295166), Row(Movie_ID=25771, rating=4.955860614776611), Row(Movie_ID=68945, rating=4.928046226501465), Row(Movie_ID=8477, rating=4.802364826202393), Row(Movie_ID=26258, rating=4.7982177734375), Row(Movie_ID=117192, rating=4.719886302947998), Row(Movie_ID=3503, rating=4.7121124267578125)]</td>\n",
       "                  \n",
       "                </tr>\n",
       "                \n",
       "                <tr>\n",
       "                  \n",
       "                  <td>440</td>\n",
       "                  \n",
       "                  <td>[Row(Movie_ID=6818, rating=5.433737754821777), Row(Movie_ID=4789, rating=5.034096717834473), Row(Movie_ID=33649, rating=4.9657793045043945), Row(Movie_ID=26326, rating=4.906911373138428), Row(Movie_ID=7025, rating=4.885674476623535), Row(Movie_ID=26258, rating=4.875543117523193), Row(Movie_ID=187, rating=4.863897800445557), Row(Movie_ID=68945, rating=4.863529682159424), Row(Movie_ID=25771, rating=4.848398208618164), Row(Movie_ID=93988, rating=4.764166831970215)]</td>\n",
       "                  \n",
       "                </tr>\n",
       "                \n",
       "                <tr>\n",
       "                  \n",
       "                  <td>443</td>\n",
       "                  \n",
       "                  <td>[Row(Movie_ID=6818, rating=5.981904983520508), Row(Movie_ID=8477, rating=5.620129108428955), Row(Movie_ID=89904, rating=5.552799701690674), Row(Movie_ID=158872, rating=5.551019191741943), Row(Movie_ID=3200, rating=5.526456356048584), Row(Movie_ID=62293, rating=5.4471540451049805), Row(Movie_ID=71899, rating=5.297163963317871), Row(Movie_ID=123, rating=5.293181419372559), Row(Movie_ID=93008, rating=5.273462772369385), Row(Movie_ID=25906, rating=5.273462772369385)]</td>\n",
       "                  \n",
       "                </tr>\n",
       "                \n",
       "                <tr>\n",
       "                  \n",
       "                  <td>449</td>\n",
       "                  \n",
       "                  <td>[Row(Movie_ID=141718, rating=4.547975540161133), Row(Movie_ID=7842, rating=4.520323753356934), Row(Movie_ID=5747, rating=4.500372409820557), Row(Movie_ID=3473, rating=4.495151996612549), Row(Movie_ID=7982, rating=4.485222339630127), Row(Movie_ID=213, rating=4.470704555511475), Row(Movie_ID=102217, rating=4.451779365539551), Row(Movie_ID=92494, rating=4.451779365539551), Row(Movie_ID=33779, rating=4.451779365539551), Row(Movie_ID=4794, rating=4.41093635559082)]</td>\n",
       "                  \n",
       "                </tr>\n",
       "                \n",
       "                <tr>\n",
       "                  \n",
       "                  <td>459</td>\n",
       "                  \n",
       "                  <td>[Row(Movie_ID=7842, rating=6.17896032333374), Row(Movie_ID=6818, rating=5.678045272827148), Row(Movie_ID=102217, rating=5.60908317565918), Row(Movie_ID=33779, rating=5.60908317565918), Row(Movie_ID=92494, rating=5.60908317565918), Row(Movie_ID=60943, rating=5.561064720153809), Row(Movie_ID=72171, rating=5.488912582397461), Row(Movie_ID=26073, rating=5.488912582397461), Row(Movie_ID=84273, rating=5.488912582397461), Row(Movie_ID=7071, rating=5.488912582397461)]</td>\n",
       "                  \n",
       "                </tr>\n",
       "                \n",
       "                <tr>\n",
       "                  \n",
       "                  <td>462</td>\n",
       "                  \n",
       "                  <td>[Row(Movie_ID=7982, rating=5.105739593505859), Row(Movie_ID=213, rating=5.032517433166504), Row(Movie_ID=4794, rating=4.922744274139404), Row(Movie_ID=187717, rating=4.874517917633057), Row(Movie_ID=167064, rating=4.874517917633057), Row(Movie_ID=100556, rating=4.874517917633057), Row(Movie_ID=160644, rating=4.874517917633057), Row(Movie_ID=162414, rating=4.874517917633057), Row(Movie_ID=6611, rating=4.874517917633057), Row(Movie_ID=89759, rating=4.874517917633057)]</td>\n",
       "                  \n",
       "                </tr>\n",
       "                \n",
       "                <tr>\n",
       "                  \n",
       "                  <td>464</td>\n",
       "                  \n",
       "                  <td>[Row(Movie_ID=7842, rating=5.538732528686523), Row(Movie_ID=6818, rating=5.464715003967285), Row(Movie_ID=3200, rating=5.323922634124756), Row(Movie_ID=6201, rating=5.237264633178711), Row(Movie_ID=25906, rating=5.186540603637695), Row(Movie_ID=77846, rating=5.186540603637695), Row(Movie_ID=93008, rating=5.186540603637695), Row(Movie_ID=89904, rating=5.148083209991455), Row(Movie_ID=2171, rating=5.147310256958008), Row(Movie_ID=8235, rating=5.114338397979736)]</td>\n",
       "                  \n",
       "                </tr>\n",
       "                \n",
       "                <tr>\n",
       "                  \n",
       "                  <td>481</td>\n",
       "                  \n",
       "                  <td>[Row(Movie_ID=158872, rating=5.26248025894165), Row(Movie_ID=1034, rating=4.96850061416626), Row(Movie_ID=47997, rating=4.919026851654053), Row(Movie_ID=62293, rating=4.832499980926514), Row(Movie_ID=3200, rating=4.810858726501465), Row(Movie_ID=6818, rating=4.773819923400879), Row(Movie_ID=25906, rating=4.75860595703125), Row(Movie_ID=77846, rating=4.75860595703125), Row(Movie_ID=93008, rating=4.75860595703125), Row(Movie_ID=123, rating=4.7032270431518555)]</td>\n",
       "                  \n",
       "                </tr>\n",
       "                \n",
       "                <tr>\n",
       "                  \n",
       "                  <td>487</td>\n",
       "                  \n",
       "                  <td>[Row(Movie_ID=6818, rating=4.818695545196533), Row(Movie_ID=89904, rating=4.3444294929504395), Row(Movie_ID=8477, rating=4.285204887390137), Row(Movie_ID=25771, rating=4.237431526184082), Row(Movie_ID=58301, rating=4.208306789398193), Row(Movie_ID=26326, rating=4.179108142852783), Row(Movie_ID=187, rating=4.172368049621582), Row(Movie_ID=7096, rating=4.157379627227783), Row(Movie_ID=71899, rating=4.155107498168945), Row(Movie_ID=945, rating=4.1377153396606445)]</td>\n",
       "                  \n",
       "                </tr>\n",
       "                \n",
       "                <tr>\n",
       "                  \n",
       "                  <td>491</td>\n",
       "                  \n",
       "                  <td>[Row(Movie_ID=123, rating=5.541216850280762), Row(Movie_ID=6818, rating=5.51320219039917), Row(Movie_ID=33649, rating=5.493241310119629), Row(Movie_ID=93008, rating=5.4523820877075195), Row(Movie_ID=25906, rating=5.4523820877075195), Row(Movie_ID=77846, rating=5.4523820877075195), Row(Movie_ID=117192, rating=5.356812477111816), Row(Movie_ID=47997, rating=5.326015472412109), Row(Movie_ID=3200, rating=5.310030460357666), Row(Movie_ID=3925, rating=5.291707992553711)]</td>\n",
       "                  \n",
       "                </tr>\n",
       "                \n",
       "                <tr>\n",
       "                  \n",
       "                  <td>497</td>\n",
       "                  \n",
       "                  <td>[Row(Movie_ID=213, rating=4.891163349151611), Row(Movie_ID=7982, rating=4.859262466430664), Row(Movie_ID=5747, rating=4.7873382568359375), Row(Movie_ID=4794, rating=4.739315986633301), Row(Movie_ID=141718, rating=4.7381744384765625), Row(Movie_ID=32582, rating=4.668603420257568), Row(Movie_ID=7842, rating=4.644904613494873), Row(Movie_ID=3473, rating=4.644138813018799), Row(Movie_ID=26131, rating=4.630631923675537), Row(Movie_ID=6611, rating=4.613641262054443)]</td>\n",
       "                  \n",
       "                </tr>\n",
       "                \n",
       "                <tr>\n",
       "                  \n",
       "                  <td>498</td>\n",
       "                  \n",
       "                  <td>[Row(Movie_ID=6818, rating=5.655215740203857), Row(Movie_ID=33649, rating=5.567824363708496), Row(Movie_ID=3925, rating=5.558094024658203), Row(Movie_ID=123, rating=5.545011043548584), Row(Movie_ID=42730, rating=5.409111976623535), Row(Movie_ID=25906, rating=5.381341934204102), Row(Movie_ID=93008, rating=5.381341934204102), Row(Movie_ID=77846, rating=5.381341934204102), Row(Movie_ID=84847, rating=5.375362396240234), Row(Movie_ID=93988, rating=5.375362396240234)]</td>\n",
       "                  \n",
       "                </tr>\n",
       "                \n",
       "                <tr>\n",
       "                  \n",
       "                  <td>503</td>\n",
       "                  \n",
       "                  <td>[Row(Movie_ID=6818, rating=4.897668838500977), Row(Movie_ID=89904, rating=4.703073501586914), Row(Movie_ID=1916, rating=4.696406841278076), Row(Movie_ID=32582, rating=4.672308444976807), Row(Movie_ID=7982, rating=4.637285232543945), Row(Movie_ID=3473, rating=4.62883996963501), Row(Movie_ID=213, rating=4.615283489227295), Row(Movie_ID=132333, rating=4.605984210968018), Row(Movie_ID=5490, rating=4.605984210968018), Row(Movie_ID=56715, rating=4.600735187530518)]</td>\n",
       "                  \n",
       "                </tr>\n",
       "                \n",
       "                <tr>\n",
       "                  \n",
       "                  <td>516</td>\n",
       "                  \n",
       "                  <td>[Row(Movie_ID=7842, rating=5.34644079208374), Row(Movie_ID=132333, rating=5.338222980499268), Row(Movie_ID=5490, rating=5.338222980499268), Row(Movie_ID=5915, rating=5.165571689605713), Row(Movie_ID=6380, rating=5.112151622772217), Row(Movie_ID=112804, rating=5.112009048461914), Row(Movie_ID=2843, rating=5.004219055175781), Row(Movie_ID=71462, rating=5.001077175140381), Row(Movie_ID=177593, rating=4.986928462982178), Row(Movie_ID=80906, rating=4.959713459014893)]</td>\n",
       "                  \n",
       "                </tr>\n",
       "                \n",
       "                <tr>\n",
       "                  \n",
       "                  <td>528</td>\n",
       "                  \n",
       "                  <td>[Row(Movie_ID=8973, rating=5.6139044761657715), Row(Movie_ID=7842, rating=5.380219459533691), Row(Movie_ID=26614, rating=5.31988525390625), Row(Movie_ID=4821, rating=5.2874345779418945), Row(Movie_ID=170705, rating=5.19573974609375), Row(Movie_ID=1211, rating=5.09400749206543), Row(Movie_ID=147374, rating=5.093937873840332), Row(Movie_ID=98083, rating=5.075774192810059), Row(Movie_ID=147382, rating=5.047938823699951), Row(Movie_ID=3701, rating=5.011953353881836)]</td>\n",
       "                  \n",
       "                </tr>\n",
       "                \n",
       "                <tr>\n",
       "                  \n",
       "                  <td>542</td>\n",
       "                  \n",
       "                  <td>[Row(Movie_ID=86320, rating=6.571357250213623), Row(Movie_ID=6818, rating=6.397752285003662), Row(Movie_ID=117192, rating=6.3613715171813965), Row(Movie_ID=8477, rating=6.318429946899414), Row(Movie_ID=89118, rating=6.318289756774902), Row(Movie_ID=67695, rating=6.21754264831543), Row(Movie_ID=1034, rating=5.9324846267700195), Row(Movie_ID=3925, rating=5.88575553894043), Row(Movie_ID=123, rating=5.882423400878906), Row(Movie_ID=82, rating=5.875674247741699)]</td>\n",
       "                  \n",
       "                </tr>\n",
       "                \n",
       "                <tr>\n",
       "                  \n",
       "                  <td>548</td>\n",
       "                  \n",
       "                  <td>[Row(Movie_ID=117192, rating=6.188530921936035), Row(Movie_ID=47997, rating=5.9749298095703125), Row(Movie_ID=5466, rating=5.929475784301758), Row(Movie_ID=33649, rating=5.867029666900635), Row(Movie_ID=123, rating=5.865403175354004), Row(Movie_ID=3925, rating=5.863333225250244), Row(Movie_ID=106642, rating=5.845016956329346), Row(Movie_ID=1034, rating=5.756557464599609), Row(Movie_ID=6732, rating=5.742763042449951), Row(Movie_ID=77846, rating=5.654315948486328)]</td>\n",
       "                  \n",
       "                </tr>\n",
       "                \n",
       "                <tr>\n",
       "                  \n",
       "                  <td>553</td>\n",
       "                  \n",
       "                  <td>[Row(Movie_ID=6818, rating=5.851210594177246), Row(Movie_ID=7842, rating=5.850216388702393), Row(Movie_ID=3200, rating=5.464332103729248), Row(Movie_ID=33649, rating=5.448007106781006), Row(Movie_ID=42730, rating=5.427507400512695), Row(Movie_ID=179135, rating=5.4233012199401855), Row(Movie_ID=72171, rating=5.4233012199401855), Row(Movie_ID=26073, rating=5.4233012199401855), Row(Movie_ID=84273, rating=5.4233012199401855), Row(Movie_ID=7071, rating=5.4233012199401855)]</td>\n",
       "                  \n",
       "                </tr>\n",
       "                \n",
       "                <tr>\n",
       "                  \n",
       "                  <td>557</td>\n",
       "                  \n",
       "                  <td>[Row(Movie_ID=7842, rating=5.118154048919678), Row(Movie_ID=2789, rating=4.960810661315918), Row(Movie_ID=86347, rating=4.939074516296387), Row(Movie_ID=3925, rating=4.919748306274414), Row(Movie_ID=33649, rating=4.91309118270874), Row(Movie_ID=3972, rating=4.8921403884887695), Row(Movie_ID=5466, rating=4.883218765258789), Row(Movie_ID=4789, rating=4.85891056060791), Row(Movie_ID=115713, rating=4.828789710998535), Row(Movie_ID=41724, rating=4.81950569152832)]</td>\n",
       "                  \n",
       "                </tr>\n",
       "                \n",
       "                <tr>\n",
       "                  \n",
       "                  <td>563</td>\n",
       "                  \n",
       "                  <td>[Row(Movie_ID=6818, rating=4.926743507385254), Row(Movie_ID=117192, rating=4.901113033294678), Row(Movie_ID=123, rating=4.867928504943848), Row(Movie_ID=86320, rating=4.816885948181152), Row(Movie_ID=1034, rating=4.763031959533691), Row(Movie_ID=33649, rating=4.675180435180664), Row(Movie_ID=25906, rating=4.666304111480713), Row(Movie_ID=77846, rating=4.666304111480713), Row(Movie_ID=93008, rating=4.666304111480713), Row(Movie_ID=3925, rating=4.657254219055176)]</td>\n",
       "                  \n",
       "                </tr>\n",
       "                \n",
       "                <tr>\n",
       "                  \n",
       "                  <td>567</td>\n",
       "                  \n",
       "                  <td>[Row(Movie_ID=8477, rating=4.821378231048584), Row(Movie_ID=6818, rating=4.730997085571289), Row(Movie_ID=25771, rating=4.411165714263916), Row(Movie_ID=156605, rating=4.339240074157715), Row(Movie_ID=143367, rating=4.339240074157715), Row(Movie_ID=89904, rating=4.337405681610107), Row(Movie_ID=71899, rating=4.292635917663574), Row(Movie_ID=112421, rating=4.115854263305664), Row(Movie_ID=58301, rating=4.110617637634277), Row(Movie_ID=26326, rating=4.098698139190674)]</td>\n",
       "                  \n",
       "                </tr>\n",
       "                \n",
       "                <tr>\n",
       "                  \n",
       "                  <td>568</td>\n",
       "                  \n",
       "                  <td>[Row(Movie_ID=6818, rating=6.272036552429199), Row(Movie_ID=89904, rating=5.822631359100342), Row(Movie_ID=187, rating=5.544868469238281), Row(Movie_ID=945, rating=5.539170265197754), Row(Movie_ID=58301, rating=5.5374369621276855), Row(Movie_ID=8477, rating=5.389807224273682), Row(Movie_ID=170705, rating=5.38792085647583), Row(Movie_ID=7371, rating=5.374028205871582), Row(Movie_ID=116897, rating=5.368751525878906), Row(Movie_ID=6666, rating=5.3553009033203125)]</td>\n",
       "                  \n",
       "                </tr>\n",
       "                \n",
       "                <tr>\n",
       "                  \n",
       "                  <td>573</td>\n",
       "                  \n",
       "                  <td>[Row(Movie_ID=4789, rating=5.793530464172363), Row(Movie_ID=7842, rating=5.705527305603027), Row(Movie_ID=33649, rating=5.701816558837891), Row(Movie_ID=3925, rating=5.644427299499512), Row(Movie_ID=5181, rating=5.493621826171875), Row(Movie_ID=93988, rating=5.470804214477539), Row(Movie_ID=84847, rating=5.470804214477539), Row(Movie_ID=6433, rating=5.4323954582214355), Row(Movie_ID=115713, rating=5.353483200073242), Row(Movie_ID=1755, rating=5.342994689941406)]</td>\n",
       "                  \n",
       "                </tr>\n",
       "                \n",
       "                <tr>\n",
       "                  \n",
       "                  <td>575</td>\n",
       "                  \n",
       "                  <td>[Row(Movie_ID=6818, rating=6.089980125427246), Row(Movie_ID=187, rating=5.630464553833008), Row(Movie_ID=170705, rating=5.420308589935303), Row(Movie_ID=945, rating=5.405987739562988), Row(Movie_ID=1211, rating=5.3635969161987305), Row(Movie_ID=58301, rating=5.34427547454834), Row(Movie_ID=4380, rating=5.335432529449463), Row(Movie_ID=27611, rating=5.285121917724609), Row(Movie_ID=6666, rating=5.251521110534668), Row(Movie_ID=84847, rating=5.23608922958374)]</td>\n",
       "                  \n",
       "                </tr>\n",
       "                \n",
       "                <tr>\n",
       "                  \n",
       "                  <td>582</td>\n",
       "                  \n",
       "                  <td>[Row(Movie_ID=6818, rating=5.174239635467529), Row(Movie_ID=33649, rating=5.136635780334473), Row(Movie_ID=3925, rating=5.103061676025391), Row(Movie_ID=123, rating=5.0891218185424805), Row(Movie_ID=84847, rating=4.935381889343262), Row(Movie_ID=93988, rating=4.935381889343262), Row(Movie_ID=117192, rating=4.9279584884643555), Row(Movie_ID=42730, rating=4.926205158233643), Row(Movie_ID=25906, rating=4.925815105438232), Row(Movie_ID=77846, rating=4.925815105438232)]</td>\n",
       "                  \n",
       "                </tr>\n",
       "                \n",
       "                <tr>\n",
       "                  \n",
       "                  <td>591</td>\n",
       "                  \n",
       "                  <td>[Row(Movie_ID=7842, rating=5.332066059112549), Row(Movie_ID=112804, rating=5.227343559265137), Row(Movie_ID=47997, rating=5.106592178344727), Row(Movie_ID=446, rating=5.037611961364746), Row(Movie_ID=2789, rating=4.990388870239258), Row(Movie_ID=33649, rating=4.943560600280762), Row(Movie_ID=932, rating=4.940440654754639), Row(Movie_ID=136469, rating=4.85527229309082), Row(Movie_ID=25906, rating=4.85354471206665), Row(Movie_ID=77846, rating=4.85354471206665)]</td>\n",
       "                  \n",
       "                </tr>\n",
       "                \n",
       "              </tbody>\n",
       "            </table>\n",
       "          </div>\n",
       "        </div>\n",
       "      </div>\n",
       "    </div>\n",
       "  </div>\n",
       "  \n",
       "  <script class=\"pd_save\">\n",
       "    $(function() {\n",
       "      var tableWrapper = $('.df-table-wrapper-956d6622');\n",
       "      var fixedHeader = $('.fixed-header', tableWrapper);\n",
       "      var tableContainer = $('.df-table-container', tableWrapper);\n",
       "      var table = $('.df-table', tableContainer);\n",
       "      var rows = $('tbody > tr', table);\n",
       "      var total = 100;\n",
       "  \n",
       "      fixedHeader\n",
       "        .css('width', table.width())\n",
       "        .find('.fixed-cell')\n",
       "        .each(function(i, e) {\n",
       "          $(this).css('width', $('.df-table-wrapper-956d6622 th:nth-child(' + (i+1) + ')').css('width'));\n",
       "        });\n",
       "  \n",
       "      tableContainer.scroll(function() {\n",
       "        fixedHeader.css({ left: table.position().left });\n",
       "      });\n",
       "  \n",
       "      rows.on(\"click\", function(e){\n",
       "          var txt = e.delegateTarget.innerText;\n",
       "          var splits = txt.split(\"\\t\");\n",
       "          var len = splits.length;\n",
       "          var hdrs = $(fixedHeader).find(\".fixed-cell\");\n",
       "          // Add all cells in the selected row as a map to be consumed by the target as needed\n",
       "          var payload = {type:\"select\", targetDivId: \"\" };\n",
       "          for (var i = 0; i < len; i++) {\n",
       "            payload[hdrs[i].innerHTML] = splits[i];\n",
       "          }\n",
       "  \n",
       "          //simple selection highlighting, client adds \"selected\" class\n",
       "          $(this).addClass(\"selected\").siblings().removeClass(\"selected\");\n",
       "          $(document).trigger('pd_event', payload);\n",
       "      });\n",
       "  \n",
       "      $('.df-table-search', tableWrapper).keyup(function() {\n",
       "        var val = '^(?=.*\\\\b' + $.trim($(this).val()).split(/\\s+/).join('\\\\b)(?=.*\\\\b') + ').*$';\n",
       "        var reg = RegExp(val, 'i');\n",
       "        var index = 0;\n",
       "        \n",
       "        rows.each(function(i, e) {\n",
       "          if (!reg.test($(this).text().replace(/\\s+/g, ' '))) {\n",
       "            $(this).attr('class', 'hidden');\n",
       "          }\n",
       "          else {\n",
       "            $(this).attr('class', (++index % 2 == 0 ? 'even' : 'odd'));\n",
       "          }\n",
       "        });\n",
       "        $('.df-table-search-count', tableWrapper).html('Showing ' + index + ' of ' + total + ' rows');\n",
       "      });\n",
       "    });\n",
       "  \n",
       "    $(\".df-table-wrapper td:contains('http://')\").each(function(){var tc = this.textContent; $(this).wrapInner(\"<a target='_blank' href='\" + tc + \"'></a>\");});\n",
       "    $(\".df-table-wrapper td:contains('https://')\").each(function(){var tc = this.textContent; $(this).wrapInner(\"<a target='_blank' href='\" + tc + \"'></a>\");});\n",
       "  </script>\n",
       "  \n",
       "        </div>"
      ],
      "text/plain": [
       "<IPython.core.display.HTML object>"
      ]
     },
     "metadata": {},
     "output_type": "display_data"
    }
   ],
   "source": [
    "display(z)"
   ]
  },
  {
   "cell_type": "code",
   "execution_count": null,
   "metadata": {},
   "outputs": [],
   "source": []
  },
  {
   "cell_type": "code",
   "execution_count": null,
   "metadata": {},
   "outputs": [],
   "source": []
  },
  {
   "cell_type": "code",
   "execution_count": 95,
   "metadata": {},
   "outputs": [
    {
     "data": {
      "text/plain": [
       "DataFrame[User_ID: int, Movie_ID: int, Rating: double, prediction: float]"
      ]
     },
     "execution_count": 95,
     "metadata": {},
     "output_type": "execute_result"
    }
   ],
   "source": [
    "# Sorting Predictions by User_ID and Rating\n",
    "\n",
    "predictions.sort(\"User_ID\", \"Rating\")"
   ]
  },
  {
   "cell_type": "code",
   "execution_count": 96,
   "metadata": {
    "pixiedust": {
     "displayParams": {
      "binsize": "10",
      "chartsize": "100",
      "charttype": "stacked",
      "clusterby": "prediction",
      "handlerId": "histogram",
      "histoChartType": "subplots",
      "keyFields": "Movie_ID",
      "legend": "true",
      "mpld3": "false",
      "orientation": "horizontal",
      "rowCount": "100",
      "valueFields": "prediction,Rating"
     }
    },
    "scrolled": true
   },
   "outputs": [
    {
     "data": {
      "text/html": [
       "<style type=\"text/css\">.pd_warning{display:none;}</style><div class=\"pd_warning\"><em>Hey, there's something awesome here! To see it, open this notebook outside GitHub, in a viewer like Jupyter</em></div>\n",
       "        <div class=\"pd_save is-viewer-good\" style=\"padding-right:10px;text-align: center;line-height:initial !important;font-size: xx-large;font-weight: 500;color: coral;\">\n",
       "            \n",
       "        </div>\n",
       "    <div id=\"chartFigure267bc488\" class=\"pd_save is-viewer-good\" style=\"overflow-x:auto\">\n",
       "            \n",
       "                    \n",
       "                            <center><img style=\"max-width:initial !important\" src=\"data:image/png;base64,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\" class=\"pd_save\"></center>\n",
       "                        \n",
       "                    \n",
       "                \n",
       "        </div>"
      ],
      "text/plain": [
       "<IPython.core.display.HTML object>"
      ]
     },
     "metadata": {},
     "output_type": "display_data"
    }
   ],
   "source": [
    "display(predictions)"
   ]
  },
  {
   "cell_type": "code",
   "execution_count": 97,
   "metadata": {},
   "outputs": [],
   "source": [
    "def get_rec(rec):\n",
    "  rec=rec.select(\"User_ID\",explode(rec.recommendations))\n",
    "  rec=rec.select(\"col.*\",\"*\")\n",
    "  rating_mat=rec.select([\"User_ID\",\"Movie_ID\",\"Rating\"])\n",
    "  return rating_mat"
   ]
  },
  {
   "cell_type": "code",
   "execution_count": 98,
   "metadata": {},
   "outputs": [],
   "source": [
    "# Recommender for all users \n",
    "\n",
    "rating_mat=get_rec(best_model.recommendForAllUsers(8))"
   ]
  },
  {
   "cell_type": "code",
   "execution_count": 99,
   "metadata": {
    "scrolled": true
   },
   "outputs": [
    {
     "name": "stdout",
     "output_type": "stream",
     "text": [
      "+-------+--------+---------+\n",
      "|User_ID|Movie_ID|   Rating|\n",
      "+-------+--------+---------+\n",
      "|    471|    6818|5.3778715|\n",
      "|    471|     187|4.9721937|\n",
      "|    471|    6460|4.7400627|\n",
      "|    471|   89904| 4.723738|\n",
      "|    471|     945| 4.720935|\n",
      "|    471|   58301| 4.718861|\n",
      "|    471|   27611| 4.679072|\n",
      "|    471|    2131|4.6771307|\n",
      "|    463|    7842| 5.646953|\n",
      "|    463|   60943|5.0822577|\n",
      "|    463|   72171| 4.824198|\n",
      "|    463|  179135| 4.824198|\n",
      "|    463|   26073| 4.824198|\n",
      "|    463|   74226| 4.824198|\n",
      "|    463|    7071| 4.824198|\n",
      "|    463|   84273| 4.824198|\n",
      "|    496|    4789| 5.574222|\n",
      "|    496|    3503| 5.060878|\n",
      "|    496|   85774|4.7671204|\n",
      "|    496|    1251|4.6967373|\n",
      "+-------+--------+---------+\n",
      "only showing top 20 rows\n",
      "\n"
     ]
    }
   ],
   "source": [
    "rating_mat.show()"
   ]
  },
  {
   "cell_type": "code",
   "execution_count": 100,
   "metadata": {},
   "outputs": [],
   "source": [
    "Result_df=rating_mat.join(movies,['Movie_ID'],how='left')"
   ]
  },
  {
   "cell_type": "code",
   "execution_count": 101,
   "metadata": {
    "scrolled": false
   },
   "outputs": [
    {
     "name": "stdout",
     "output_type": "stream",
     "text": [
      "+--------+-------+---------+--------------------+--------------------+\n",
      "|Movie_ID|User_ID|   Rating|               Title|              Genres|\n",
      "+--------+-------+---------+--------------------+--------------------+\n",
      "|    7842|     14|5.2088614|         Dune (2000)|Drama|Fantasy|Sci-Fi|\n",
      "|    6818|     14|5.1523747|Come and See (Idi...|           Drama|War|\n",
      "|   42730|     14| 5.036359|   Glory Road (2006)|               Drama|\n",
      "|   25906|     14| 4.986349|Mr. Skeffington (...|       Drama|Romance|\n",
      "|   77846|     14| 4.986349| 12 Angry Men (1997)|         Crime|Drama|\n",
      "|   93008|     14| 4.986349|Very Potter Seque...|      Comedy|Musical|\n",
      "|    3200|     14| 4.936701|Last Detail, The ...|        Comedy|Drama|\n",
      "|   92643|     14| 4.927156|Monsieur Lazhar (...|Children|Comedy|D...|\n",
      "+--------+-------+---------+--------------------+--------------------+\n",
      "\n"
     ]
    }
   ],
   "source": [
    "# Display train data\n",
    "\n",
    "Result_df.filter(\"User_ID=14\").orderBy(Result_df[\"Rating\"].desc()).show(10)"
   ]
  },
  {
   "cell_type": "code",
   "execution_count": null,
   "metadata": {},
   "outputs": [],
   "source": []
  },
  {
   "cell_type": "code",
   "execution_count": 102,
   "metadata": {
    "scrolled": true
   },
   "outputs": [
    {
     "name": "stdout",
     "output_type": "stream",
     "text": [
      "+--------+--------------------+--------------------+-------+------+\n",
      "|Movie_ID|               Title|              Genres|User_ID|Rating|\n",
      "+--------+--------------------+--------------------+-------+------+\n",
      "|     110|   Braveheart (1995)|    Action|Drama|War|     14|   5.0|\n",
      "|      47|Seven (a.k.a. Se7...|    Mystery|Thriller|     14|   5.0|\n",
      "|     337|What's Eating Gil...|               Drama|     14|   5.0|\n",
      "|     509|   Piano, The (1993)|       Drama|Romance|     14|   5.0|\n",
      "|     266|Legends of the Fa...|Drama|Romance|War...|     14|   5.0|\n",
      "|      95| Broken Arrow (1996)|Action|Adventure|...|     14|   5.0|\n",
      "|     282|         Nell (1994)|               Drama|     14|   5.0|\n",
      "|      32|Twelve Monkeys (a...|Mystery|Sci-Fi|Th...|     14|   4.0|\n",
      "|      25|Leaving Las Vegas...|       Drama|Romance|     14|   4.0|\n",
      "|     339|While You Were Sl...|      Comedy|Romance|     14|   4.0|\n",
      "+--------+--------------------+--------------------+-------+------+\n",
      "only showing top 10 rows\n",
      "\n"
     ]
    }
   ],
   "source": [
    "# Display test data \n",
    "\n",
    "Test_df=movies.join(ratings,['Movie_ID'],how='left')\n",
    "Test_df.filter(\"User_ID=14\").orderBy(Test_df[\"Rating\"].desc()).show(10)"
   ]
  },
  {
   "cell_type": "code",
   "execution_count": null,
   "metadata": {},
   "outputs": [],
   "source": []
  },
  {
   "cell_type": "code",
   "execution_count": null,
   "metadata": {},
   "outputs": [],
   "source": []
  },
  {
   "cell_type": "code",
   "execution_count": null,
   "metadata": {},
   "outputs": [],
   "source": []
  },
  {
   "cell_type": "code",
   "execution_count": null,
   "metadata": {},
   "outputs": [],
   "source": []
  },
  {
   "cell_type": "code",
   "execution_count": null,
   "metadata": {},
   "outputs": [],
   "source": []
  },
  {
   "cell_type": "code",
   "execution_count": null,
   "metadata": {},
   "outputs": [],
   "source": []
  },
  {
   "cell_type": "code",
   "execution_count": null,
   "metadata": {},
   "outputs": [],
   "source": []
  },
  {
   "cell_type": "code",
   "execution_count": null,
   "metadata": {},
   "outputs": [],
   "source": []
  },
  {
   "cell_type": "code",
   "execution_count": null,
   "metadata": {},
   "outputs": [],
   "source": []
  },
  {
   "cell_type": "code",
   "execution_count": null,
   "metadata": {},
   "outputs": [],
   "source": []
  }
 ],
 "metadata": {
  "kernelspec": {
   "display_name": "Python 3",
   "language": "python",
   "name": "python3"
  },
  "language_info": {
   "codemirror_mode": {
    "name": "ipython",
    "version": 3
   },
   "file_extension": ".py",
   "mimetype": "text/x-python",
   "name": "python",
   "nbconvert_exporter": "python",
   "pygments_lexer": "ipython3",
   "version": "3.6.8"
  },
  "toc": {
   "base_numbering": 1,
   "nav_menu": {},
   "number_sections": true,
   "sideBar": true,
   "skip_h1_title": false,
   "title_cell": "Table of Contents",
   "title_sidebar": "Contents",
   "toc_cell": false,
   "toc_position": {},
   "toc_section_display": true,
   "toc_window_display": false
  }
 },
 "nbformat": 4,
 "nbformat_minor": 2
}
